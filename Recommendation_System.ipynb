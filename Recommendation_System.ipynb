{
 "cells": [
  {
   "cell_type": "markdown",
   "id": "2bbe3d1c",
   "metadata": {},
   "source": [
    "# Movie recommendation system "
   ]
  },
  {
   "cell_type": "markdown",
   "id": "3740cbc3",
   "metadata": {},
   "source": [
    "Recommendation system is gradually became popular in many fields. In this notebook, I will try to build a base movie recommendation system using [TMDB 5000 Movies Dataset](https://www.kaggle.com/datasets/tmdb/tmdb-movie-metadata) in Kaggle."
   ]
  },
  {
   "cell_type": "markdown",
   "id": "643dde51",
   "metadata": {},
   "source": [
    "## Import necessary libary"
   ]
  },
  {
   "cell_type": "code",
   "execution_count": 1,
   "id": "c54555ee",
   "metadata": {},
   "outputs": [],
   "source": [
    "import numpy as np\n",
    "import pandas as pd\n",
    "import matplotlib.pyplot as plt"
   ]
  },
  {
   "cell_type": "markdown",
   "id": "a04974b4",
   "metadata": {},
   "source": [
    "Let's read the data and have some first view with this dataset"
   ]
  },
  {
   "cell_type": "code",
   "execution_count": 2,
   "id": "68c3f95e",
   "metadata": {},
   "outputs": [],
   "source": [
    "df1=pd.read_csv('Data/tmdb_5000_credits.csv')\n",
    "df2=pd.read_csv('Data/tmdb_5000_movies.csv')"
   ]
  },
  {
   "cell_type": "code",
   "execution_count": 3,
   "id": "5f523ae4",
   "metadata": {},
   "outputs": [
    {
     "data": {
      "text/html": [
       "<div>\n",
       "<style scoped>\n",
       "    .dataframe tbody tr th:only-of-type {\n",
       "        vertical-align: middle;\n",
       "    }\n",
       "\n",
       "    .dataframe tbody tr th {\n",
       "        vertical-align: top;\n",
       "    }\n",
       "\n",
       "    .dataframe thead th {\n",
       "        text-align: right;\n",
       "    }\n",
       "</style>\n",
       "<table border=\"1\" class=\"dataframe\">\n",
       "  <thead>\n",
       "    <tr style=\"text-align: right;\">\n",
       "      <th></th>\n",
       "      <th>movie_id</th>\n",
       "      <th>title</th>\n",
       "      <th>cast</th>\n",
       "      <th>crew</th>\n",
       "    </tr>\n",
       "  </thead>\n",
       "  <tbody>\n",
       "    <tr>\n",
       "      <th>0</th>\n",
       "      <td>19995</td>\n",
       "      <td>Avatar</td>\n",
       "      <td>[{\"cast_id\": 242, \"character\": \"Jake Sully\", \"...</td>\n",
       "      <td>[{\"credit_id\": \"52fe48009251416c750aca23\", \"de...</td>\n",
       "    </tr>\n",
       "    <tr>\n",
       "      <th>1</th>\n",
       "      <td>285</td>\n",
       "      <td>Pirates of the Caribbean: At World's End</td>\n",
       "      <td>[{\"cast_id\": 4, \"character\": \"Captain Jack Spa...</td>\n",
       "      <td>[{\"credit_id\": \"52fe4232c3a36847f800b579\", \"de...</td>\n",
       "    </tr>\n",
       "    <tr>\n",
       "      <th>2</th>\n",
       "      <td>206647</td>\n",
       "      <td>Spectre</td>\n",
       "      <td>[{\"cast_id\": 1, \"character\": \"James Bond\", \"cr...</td>\n",
       "      <td>[{\"credit_id\": \"54805967c3a36829b5002c41\", \"de...</td>\n",
       "    </tr>\n",
       "    <tr>\n",
       "      <th>3</th>\n",
       "      <td>49026</td>\n",
       "      <td>The Dark Knight Rises</td>\n",
       "      <td>[{\"cast_id\": 2, \"character\": \"Bruce Wayne / Ba...</td>\n",
       "      <td>[{\"credit_id\": \"52fe4781c3a36847f81398c3\", \"de...</td>\n",
       "    </tr>\n",
       "    <tr>\n",
       "      <th>4</th>\n",
       "      <td>49529</td>\n",
       "      <td>John Carter</td>\n",
       "      <td>[{\"cast_id\": 5, \"character\": \"John Carter\", \"c...</td>\n",
       "      <td>[{\"credit_id\": \"52fe479ac3a36847f813eaa3\", \"de...</td>\n",
       "    </tr>\n",
       "  </tbody>\n",
       "</table>\n",
       "</div>"
      ],
      "text/plain": [
       "   movie_id                                     title  \\\n",
       "0     19995                                    Avatar   \n",
       "1       285  Pirates of the Caribbean: At World's End   \n",
       "2    206647                                   Spectre   \n",
       "3     49026                     The Dark Knight Rises   \n",
       "4     49529                               John Carter   \n",
       "\n",
       "                                                cast  \\\n",
       "0  [{\"cast_id\": 242, \"character\": \"Jake Sully\", \"...   \n",
       "1  [{\"cast_id\": 4, \"character\": \"Captain Jack Spa...   \n",
       "2  [{\"cast_id\": 1, \"character\": \"James Bond\", \"cr...   \n",
       "3  [{\"cast_id\": 2, \"character\": \"Bruce Wayne / Ba...   \n",
       "4  [{\"cast_id\": 5, \"character\": \"John Carter\", \"c...   \n",
       "\n",
       "                                                crew  \n",
       "0  [{\"credit_id\": \"52fe48009251416c750aca23\", \"de...  \n",
       "1  [{\"credit_id\": \"52fe4232c3a36847f800b579\", \"de...  \n",
       "2  [{\"credit_id\": \"54805967c3a36829b5002c41\", \"de...  \n",
       "3  [{\"credit_id\": \"52fe4781c3a36847f81398c3\", \"de...  \n",
       "4  [{\"credit_id\": \"52fe479ac3a36847f813eaa3\", \"de...  "
      ]
     },
     "execution_count": 3,
     "metadata": {},
     "output_type": "execute_result"
    }
   ],
   "source": [
    "df1.head()"
   ]
  },
  {
   "cell_type": "code",
   "execution_count": 4,
   "id": "00ffc80a",
   "metadata": {},
   "outputs": [
    {
     "data": {
      "text/html": [
       "<div>\n",
       "<style scoped>\n",
       "    .dataframe tbody tr th:only-of-type {\n",
       "        vertical-align: middle;\n",
       "    }\n",
       "\n",
       "    .dataframe tbody tr th {\n",
       "        vertical-align: top;\n",
       "    }\n",
       "\n",
       "    .dataframe thead th {\n",
       "        text-align: right;\n",
       "    }\n",
       "</style>\n",
       "<table border=\"1\" class=\"dataframe\">\n",
       "  <thead>\n",
       "    <tr style=\"text-align: right;\">\n",
       "      <th></th>\n",
       "      <th>budget</th>\n",
       "      <th>genres</th>\n",
       "      <th>homepage</th>\n",
       "      <th>id</th>\n",
       "      <th>keywords</th>\n",
       "      <th>original_language</th>\n",
       "      <th>original_title</th>\n",
       "      <th>overview</th>\n",
       "      <th>popularity</th>\n",
       "      <th>production_companies</th>\n",
       "      <th>production_countries</th>\n",
       "      <th>release_date</th>\n",
       "      <th>revenue</th>\n",
       "      <th>runtime</th>\n",
       "      <th>spoken_languages</th>\n",
       "      <th>status</th>\n",
       "      <th>tagline</th>\n",
       "      <th>title</th>\n",
       "      <th>vote_average</th>\n",
       "      <th>vote_count</th>\n",
       "    </tr>\n",
       "  </thead>\n",
       "  <tbody>\n",
       "    <tr>\n",
       "      <th>0</th>\n",
       "      <td>237000000</td>\n",
       "      <td>[{\"id\": 28, \"name\": \"Action\"}, {\"id\": 12, \"nam...</td>\n",
       "      <td>http://www.avatarmovie.com/</td>\n",
       "      <td>19995</td>\n",
       "      <td>[{\"id\": 1463, \"name\": \"culture clash\"}, {\"id\":...</td>\n",
       "      <td>en</td>\n",
       "      <td>Avatar</td>\n",
       "      <td>In the 22nd century, a paraplegic Marine is di...</td>\n",
       "      <td>150.437577</td>\n",
       "      <td>[{\"name\": \"Ingenious Film Partners\", \"id\": 289...</td>\n",
       "      <td>[{\"iso_3166_1\": \"US\", \"name\": \"United States o...</td>\n",
       "      <td>2009-12-10</td>\n",
       "      <td>2787965087</td>\n",
       "      <td>162.0</td>\n",
       "      <td>[{\"iso_639_1\": \"en\", \"name\": \"English\"}, {\"iso...</td>\n",
       "      <td>Released</td>\n",
       "      <td>Enter the World of Pandora.</td>\n",
       "      <td>Avatar</td>\n",
       "      <td>7.2</td>\n",
       "      <td>11800</td>\n",
       "    </tr>\n",
       "    <tr>\n",
       "      <th>1</th>\n",
       "      <td>300000000</td>\n",
       "      <td>[{\"id\": 12, \"name\": \"Adventure\"}, {\"id\": 14, \"...</td>\n",
       "      <td>http://disney.go.com/disneypictures/pirates/</td>\n",
       "      <td>285</td>\n",
       "      <td>[{\"id\": 270, \"name\": \"ocean\"}, {\"id\": 726, \"na...</td>\n",
       "      <td>en</td>\n",
       "      <td>Pirates of the Caribbean: At World's End</td>\n",
       "      <td>Captain Barbossa, long believed to be dead, ha...</td>\n",
       "      <td>139.082615</td>\n",
       "      <td>[{\"name\": \"Walt Disney Pictures\", \"id\": 2}, {\"...</td>\n",
       "      <td>[{\"iso_3166_1\": \"US\", \"name\": \"United States o...</td>\n",
       "      <td>2007-05-19</td>\n",
       "      <td>961000000</td>\n",
       "      <td>169.0</td>\n",
       "      <td>[{\"iso_639_1\": \"en\", \"name\": \"English\"}]</td>\n",
       "      <td>Released</td>\n",
       "      <td>At the end of the world, the adventure begins.</td>\n",
       "      <td>Pirates of the Caribbean: At World's End</td>\n",
       "      <td>6.9</td>\n",
       "      <td>4500</td>\n",
       "    </tr>\n",
       "    <tr>\n",
       "      <th>2</th>\n",
       "      <td>245000000</td>\n",
       "      <td>[{\"id\": 28, \"name\": \"Action\"}, {\"id\": 12, \"nam...</td>\n",
       "      <td>http://www.sonypictures.com/movies/spectre/</td>\n",
       "      <td>206647</td>\n",
       "      <td>[{\"id\": 470, \"name\": \"spy\"}, {\"id\": 818, \"name...</td>\n",
       "      <td>en</td>\n",
       "      <td>Spectre</td>\n",
       "      <td>A cryptic message from Bond’s past sends him o...</td>\n",
       "      <td>107.376788</td>\n",
       "      <td>[{\"name\": \"Columbia Pictures\", \"id\": 5}, {\"nam...</td>\n",
       "      <td>[{\"iso_3166_1\": \"GB\", \"name\": \"United Kingdom\"...</td>\n",
       "      <td>2015-10-26</td>\n",
       "      <td>880674609</td>\n",
       "      <td>148.0</td>\n",
       "      <td>[{\"iso_639_1\": \"fr\", \"name\": \"Fran\\u00e7ais\"},...</td>\n",
       "      <td>Released</td>\n",
       "      <td>A Plan No One Escapes</td>\n",
       "      <td>Spectre</td>\n",
       "      <td>6.3</td>\n",
       "      <td>4466</td>\n",
       "    </tr>\n",
       "    <tr>\n",
       "      <th>3</th>\n",
       "      <td>250000000</td>\n",
       "      <td>[{\"id\": 28, \"name\": \"Action\"}, {\"id\": 80, \"nam...</td>\n",
       "      <td>http://www.thedarkknightrises.com/</td>\n",
       "      <td>49026</td>\n",
       "      <td>[{\"id\": 849, \"name\": \"dc comics\"}, {\"id\": 853,...</td>\n",
       "      <td>en</td>\n",
       "      <td>The Dark Knight Rises</td>\n",
       "      <td>Following the death of District Attorney Harve...</td>\n",
       "      <td>112.312950</td>\n",
       "      <td>[{\"name\": \"Legendary Pictures\", \"id\": 923}, {\"...</td>\n",
       "      <td>[{\"iso_3166_1\": \"US\", \"name\": \"United States o...</td>\n",
       "      <td>2012-07-16</td>\n",
       "      <td>1084939099</td>\n",
       "      <td>165.0</td>\n",
       "      <td>[{\"iso_639_1\": \"en\", \"name\": \"English\"}]</td>\n",
       "      <td>Released</td>\n",
       "      <td>The Legend Ends</td>\n",
       "      <td>The Dark Knight Rises</td>\n",
       "      <td>7.6</td>\n",
       "      <td>9106</td>\n",
       "    </tr>\n",
       "    <tr>\n",
       "      <th>4</th>\n",
       "      <td>260000000</td>\n",
       "      <td>[{\"id\": 28, \"name\": \"Action\"}, {\"id\": 12, \"nam...</td>\n",
       "      <td>http://movies.disney.com/john-carter</td>\n",
       "      <td>49529</td>\n",
       "      <td>[{\"id\": 818, \"name\": \"based on novel\"}, {\"id\":...</td>\n",
       "      <td>en</td>\n",
       "      <td>John Carter</td>\n",
       "      <td>John Carter is a war-weary, former military ca...</td>\n",
       "      <td>43.926995</td>\n",
       "      <td>[{\"name\": \"Walt Disney Pictures\", \"id\": 2}]</td>\n",
       "      <td>[{\"iso_3166_1\": \"US\", \"name\": \"United States o...</td>\n",
       "      <td>2012-03-07</td>\n",
       "      <td>284139100</td>\n",
       "      <td>132.0</td>\n",
       "      <td>[{\"iso_639_1\": \"en\", \"name\": \"English\"}]</td>\n",
       "      <td>Released</td>\n",
       "      <td>Lost in our world, found in another.</td>\n",
       "      <td>John Carter</td>\n",
       "      <td>6.1</td>\n",
       "      <td>2124</td>\n",
       "    </tr>\n",
       "  </tbody>\n",
       "</table>\n",
       "</div>"
      ],
      "text/plain": [
       "      budget                                             genres  \\\n",
       "0  237000000  [{\"id\": 28, \"name\": \"Action\"}, {\"id\": 12, \"nam...   \n",
       "1  300000000  [{\"id\": 12, \"name\": \"Adventure\"}, {\"id\": 14, \"...   \n",
       "2  245000000  [{\"id\": 28, \"name\": \"Action\"}, {\"id\": 12, \"nam...   \n",
       "3  250000000  [{\"id\": 28, \"name\": \"Action\"}, {\"id\": 80, \"nam...   \n",
       "4  260000000  [{\"id\": 28, \"name\": \"Action\"}, {\"id\": 12, \"nam...   \n",
       "\n",
       "                                       homepage      id  \\\n",
       "0                   http://www.avatarmovie.com/   19995   \n",
       "1  http://disney.go.com/disneypictures/pirates/     285   \n",
       "2   http://www.sonypictures.com/movies/spectre/  206647   \n",
       "3            http://www.thedarkknightrises.com/   49026   \n",
       "4          http://movies.disney.com/john-carter   49529   \n",
       "\n",
       "                                            keywords original_language  \\\n",
       "0  [{\"id\": 1463, \"name\": \"culture clash\"}, {\"id\":...                en   \n",
       "1  [{\"id\": 270, \"name\": \"ocean\"}, {\"id\": 726, \"na...                en   \n",
       "2  [{\"id\": 470, \"name\": \"spy\"}, {\"id\": 818, \"name...                en   \n",
       "3  [{\"id\": 849, \"name\": \"dc comics\"}, {\"id\": 853,...                en   \n",
       "4  [{\"id\": 818, \"name\": \"based on novel\"}, {\"id\":...                en   \n",
       "\n",
       "                             original_title  \\\n",
       "0                                    Avatar   \n",
       "1  Pirates of the Caribbean: At World's End   \n",
       "2                                   Spectre   \n",
       "3                     The Dark Knight Rises   \n",
       "4                               John Carter   \n",
       "\n",
       "                                            overview  popularity  \\\n",
       "0  In the 22nd century, a paraplegic Marine is di...  150.437577   \n",
       "1  Captain Barbossa, long believed to be dead, ha...  139.082615   \n",
       "2  A cryptic message from Bond’s past sends him o...  107.376788   \n",
       "3  Following the death of District Attorney Harve...  112.312950   \n",
       "4  John Carter is a war-weary, former military ca...   43.926995   \n",
       "\n",
       "                                production_companies  \\\n",
       "0  [{\"name\": \"Ingenious Film Partners\", \"id\": 289...   \n",
       "1  [{\"name\": \"Walt Disney Pictures\", \"id\": 2}, {\"...   \n",
       "2  [{\"name\": \"Columbia Pictures\", \"id\": 5}, {\"nam...   \n",
       "3  [{\"name\": \"Legendary Pictures\", \"id\": 923}, {\"...   \n",
       "4        [{\"name\": \"Walt Disney Pictures\", \"id\": 2}]   \n",
       "\n",
       "                                production_countries release_date     revenue  \\\n",
       "0  [{\"iso_3166_1\": \"US\", \"name\": \"United States o...   2009-12-10  2787965087   \n",
       "1  [{\"iso_3166_1\": \"US\", \"name\": \"United States o...   2007-05-19   961000000   \n",
       "2  [{\"iso_3166_1\": \"GB\", \"name\": \"United Kingdom\"...   2015-10-26   880674609   \n",
       "3  [{\"iso_3166_1\": \"US\", \"name\": \"United States o...   2012-07-16  1084939099   \n",
       "4  [{\"iso_3166_1\": \"US\", \"name\": \"United States o...   2012-03-07   284139100   \n",
       "\n",
       "   runtime                                   spoken_languages    status  \\\n",
       "0    162.0  [{\"iso_639_1\": \"en\", \"name\": \"English\"}, {\"iso...  Released   \n",
       "1    169.0           [{\"iso_639_1\": \"en\", \"name\": \"English\"}]  Released   \n",
       "2    148.0  [{\"iso_639_1\": \"fr\", \"name\": \"Fran\\u00e7ais\"},...  Released   \n",
       "3    165.0           [{\"iso_639_1\": \"en\", \"name\": \"English\"}]  Released   \n",
       "4    132.0           [{\"iso_639_1\": \"en\", \"name\": \"English\"}]  Released   \n",
       "\n",
       "                                          tagline  \\\n",
       "0                     Enter the World of Pandora.   \n",
       "1  At the end of the world, the adventure begins.   \n",
       "2                           A Plan No One Escapes   \n",
       "3                                 The Legend Ends   \n",
       "4            Lost in our world, found in another.   \n",
       "\n",
       "                                      title  vote_average  vote_count  \n",
       "0                                    Avatar           7.2       11800  \n",
       "1  Pirates of the Caribbean: At World's End           6.9        4500  \n",
       "2                                   Spectre           6.3        4466  \n",
       "3                     The Dark Knight Rises           7.6        9106  \n",
       "4                               John Carter           6.1        2124  "
      ]
     },
     "execution_count": 4,
     "metadata": {},
     "output_type": "execute_result"
    }
   ],
   "source": [
    "df2.head()"
   ]
  },
  {
   "cell_type": "markdown",
   "id": "da9dbbaa",
   "metadata": {},
   "source": [
    "For ease of manipulation of the dataset, I will merge the two datasets into one dataset on `movie_id`"
   ]
  },
  {
   "cell_type": "code",
   "execution_count": 5,
   "id": "126e39fb",
   "metadata": {},
   "outputs": [],
   "source": [
    "df1.columns = ['id','tittle','cast','crew']\n",
    "df= df2.merge(df1,on='id')"
   ]
  },
  {
   "cell_type": "markdown",
   "id": "a42d1428",
   "metadata": {},
   "source": [
    "Now just have a first look at our dataset"
   ]
  },
  {
   "cell_type": "code",
   "execution_count": 6,
   "id": "62224ce4",
   "metadata": {},
   "outputs": [
    {
     "data": {
      "text/html": [
       "<div>\n",
       "<style scoped>\n",
       "    .dataframe tbody tr th:only-of-type {\n",
       "        vertical-align: middle;\n",
       "    }\n",
       "\n",
       "    .dataframe tbody tr th {\n",
       "        vertical-align: top;\n",
       "    }\n",
       "\n",
       "    .dataframe thead th {\n",
       "        text-align: right;\n",
       "    }\n",
       "</style>\n",
       "<table border=\"1\" class=\"dataframe\">\n",
       "  <thead>\n",
       "    <tr style=\"text-align: right;\">\n",
       "      <th></th>\n",
       "      <th>budget</th>\n",
       "      <th>genres</th>\n",
       "      <th>homepage</th>\n",
       "      <th>id</th>\n",
       "      <th>keywords</th>\n",
       "      <th>original_language</th>\n",
       "      <th>original_title</th>\n",
       "      <th>overview</th>\n",
       "      <th>popularity</th>\n",
       "      <th>production_companies</th>\n",
       "      <th>...</th>\n",
       "      <th>runtime</th>\n",
       "      <th>spoken_languages</th>\n",
       "      <th>status</th>\n",
       "      <th>tagline</th>\n",
       "      <th>title</th>\n",
       "      <th>vote_average</th>\n",
       "      <th>vote_count</th>\n",
       "      <th>tittle</th>\n",
       "      <th>cast</th>\n",
       "      <th>crew</th>\n",
       "    </tr>\n",
       "  </thead>\n",
       "  <tbody>\n",
       "    <tr>\n",
       "      <th>0</th>\n",
       "      <td>237000000</td>\n",
       "      <td>[{\"id\": 28, \"name\": \"Action\"}, {\"id\": 12, \"nam...</td>\n",
       "      <td>http://www.avatarmovie.com/</td>\n",
       "      <td>19995</td>\n",
       "      <td>[{\"id\": 1463, \"name\": \"culture clash\"}, {\"id\":...</td>\n",
       "      <td>en</td>\n",
       "      <td>Avatar</td>\n",
       "      <td>In the 22nd century, a paraplegic Marine is di...</td>\n",
       "      <td>150.437577</td>\n",
       "      <td>[{\"name\": \"Ingenious Film Partners\", \"id\": 289...</td>\n",
       "      <td>...</td>\n",
       "      <td>162.0</td>\n",
       "      <td>[{\"iso_639_1\": \"en\", \"name\": \"English\"}, {\"iso...</td>\n",
       "      <td>Released</td>\n",
       "      <td>Enter the World of Pandora.</td>\n",
       "      <td>Avatar</td>\n",
       "      <td>7.2</td>\n",
       "      <td>11800</td>\n",
       "      <td>Avatar</td>\n",
       "      <td>[{\"cast_id\": 242, \"character\": \"Jake Sully\", \"...</td>\n",
       "      <td>[{\"credit_id\": \"52fe48009251416c750aca23\", \"de...</td>\n",
       "    </tr>\n",
       "    <tr>\n",
       "      <th>1</th>\n",
       "      <td>300000000</td>\n",
       "      <td>[{\"id\": 12, \"name\": \"Adventure\"}, {\"id\": 14, \"...</td>\n",
       "      <td>http://disney.go.com/disneypictures/pirates/</td>\n",
       "      <td>285</td>\n",
       "      <td>[{\"id\": 270, \"name\": \"ocean\"}, {\"id\": 726, \"na...</td>\n",
       "      <td>en</td>\n",
       "      <td>Pirates of the Caribbean: At World's End</td>\n",
       "      <td>Captain Barbossa, long believed to be dead, ha...</td>\n",
       "      <td>139.082615</td>\n",
       "      <td>[{\"name\": \"Walt Disney Pictures\", \"id\": 2}, {\"...</td>\n",
       "      <td>...</td>\n",
       "      <td>169.0</td>\n",
       "      <td>[{\"iso_639_1\": \"en\", \"name\": \"English\"}]</td>\n",
       "      <td>Released</td>\n",
       "      <td>At the end of the world, the adventure begins.</td>\n",
       "      <td>Pirates of the Caribbean: At World's End</td>\n",
       "      <td>6.9</td>\n",
       "      <td>4500</td>\n",
       "      <td>Pirates of the Caribbean: At World's End</td>\n",
       "      <td>[{\"cast_id\": 4, \"character\": \"Captain Jack Spa...</td>\n",
       "      <td>[{\"credit_id\": \"52fe4232c3a36847f800b579\", \"de...</td>\n",
       "    </tr>\n",
       "    <tr>\n",
       "      <th>2</th>\n",
       "      <td>245000000</td>\n",
       "      <td>[{\"id\": 28, \"name\": \"Action\"}, {\"id\": 12, \"nam...</td>\n",
       "      <td>http://www.sonypictures.com/movies/spectre/</td>\n",
       "      <td>206647</td>\n",
       "      <td>[{\"id\": 470, \"name\": \"spy\"}, {\"id\": 818, \"name...</td>\n",
       "      <td>en</td>\n",
       "      <td>Spectre</td>\n",
       "      <td>A cryptic message from Bond’s past sends him o...</td>\n",
       "      <td>107.376788</td>\n",
       "      <td>[{\"name\": \"Columbia Pictures\", \"id\": 5}, {\"nam...</td>\n",
       "      <td>...</td>\n",
       "      <td>148.0</td>\n",
       "      <td>[{\"iso_639_1\": \"fr\", \"name\": \"Fran\\u00e7ais\"},...</td>\n",
       "      <td>Released</td>\n",
       "      <td>A Plan No One Escapes</td>\n",
       "      <td>Spectre</td>\n",
       "      <td>6.3</td>\n",
       "      <td>4466</td>\n",
       "      <td>Spectre</td>\n",
       "      <td>[{\"cast_id\": 1, \"character\": \"James Bond\", \"cr...</td>\n",
       "      <td>[{\"credit_id\": \"54805967c3a36829b5002c41\", \"de...</td>\n",
       "    </tr>\n",
       "    <tr>\n",
       "      <th>3</th>\n",
       "      <td>250000000</td>\n",
       "      <td>[{\"id\": 28, \"name\": \"Action\"}, {\"id\": 80, \"nam...</td>\n",
       "      <td>http://www.thedarkknightrises.com/</td>\n",
       "      <td>49026</td>\n",
       "      <td>[{\"id\": 849, \"name\": \"dc comics\"}, {\"id\": 853,...</td>\n",
       "      <td>en</td>\n",
       "      <td>The Dark Knight Rises</td>\n",
       "      <td>Following the death of District Attorney Harve...</td>\n",
       "      <td>112.312950</td>\n",
       "      <td>[{\"name\": \"Legendary Pictures\", \"id\": 923}, {\"...</td>\n",
       "      <td>...</td>\n",
       "      <td>165.0</td>\n",
       "      <td>[{\"iso_639_1\": \"en\", \"name\": \"English\"}]</td>\n",
       "      <td>Released</td>\n",
       "      <td>The Legend Ends</td>\n",
       "      <td>The Dark Knight Rises</td>\n",
       "      <td>7.6</td>\n",
       "      <td>9106</td>\n",
       "      <td>The Dark Knight Rises</td>\n",
       "      <td>[{\"cast_id\": 2, \"character\": \"Bruce Wayne / Ba...</td>\n",
       "      <td>[{\"credit_id\": \"52fe4781c3a36847f81398c3\", \"de...</td>\n",
       "    </tr>\n",
       "    <tr>\n",
       "      <th>4</th>\n",
       "      <td>260000000</td>\n",
       "      <td>[{\"id\": 28, \"name\": \"Action\"}, {\"id\": 12, \"nam...</td>\n",
       "      <td>http://movies.disney.com/john-carter</td>\n",
       "      <td>49529</td>\n",
       "      <td>[{\"id\": 818, \"name\": \"based on novel\"}, {\"id\":...</td>\n",
       "      <td>en</td>\n",
       "      <td>John Carter</td>\n",
       "      <td>John Carter is a war-weary, former military ca...</td>\n",
       "      <td>43.926995</td>\n",
       "      <td>[{\"name\": \"Walt Disney Pictures\", \"id\": 2}]</td>\n",
       "      <td>...</td>\n",
       "      <td>132.0</td>\n",
       "      <td>[{\"iso_639_1\": \"en\", \"name\": \"English\"}]</td>\n",
       "      <td>Released</td>\n",
       "      <td>Lost in our world, found in another.</td>\n",
       "      <td>John Carter</td>\n",
       "      <td>6.1</td>\n",
       "      <td>2124</td>\n",
       "      <td>John Carter</td>\n",
       "      <td>[{\"cast_id\": 5, \"character\": \"John Carter\", \"c...</td>\n",
       "      <td>[{\"credit_id\": \"52fe479ac3a36847f813eaa3\", \"de...</td>\n",
       "    </tr>\n",
       "  </tbody>\n",
       "</table>\n",
       "<p>5 rows × 23 columns</p>\n",
       "</div>"
      ],
      "text/plain": [
       "      budget                                             genres  \\\n",
       "0  237000000  [{\"id\": 28, \"name\": \"Action\"}, {\"id\": 12, \"nam...   \n",
       "1  300000000  [{\"id\": 12, \"name\": \"Adventure\"}, {\"id\": 14, \"...   \n",
       "2  245000000  [{\"id\": 28, \"name\": \"Action\"}, {\"id\": 12, \"nam...   \n",
       "3  250000000  [{\"id\": 28, \"name\": \"Action\"}, {\"id\": 80, \"nam...   \n",
       "4  260000000  [{\"id\": 28, \"name\": \"Action\"}, {\"id\": 12, \"nam...   \n",
       "\n",
       "                                       homepage      id  \\\n",
       "0                   http://www.avatarmovie.com/   19995   \n",
       "1  http://disney.go.com/disneypictures/pirates/     285   \n",
       "2   http://www.sonypictures.com/movies/spectre/  206647   \n",
       "3            http://www.thedarkknightrises.com/   49026   \n",
       "4          http://movies.disney.com/john-carter   49529   \n",
       "\n",
       "                                            keywords original_language  \\\n",
       "0  [{\"id\": 1463, \"name\": \"culture clash\"}, {\"id\":...                en   \n",
       "1  [{\"id\": 270, \"name\": \"ocean\"}, {\"id\": 726, \"na...                en   \n",
       "2  [{\"id\": 470, \"name\": \"spy\"}, {\"id\": 818, \"name...                en   \n",
       "3  [{\"id\": 849, \"name\": \"dc comics\"}, {\"id\": 853,...                en   \n",
       "4  [{\"id\": 818, \"name\": \"based on novel\"}, {\"id\":...                en   \n",
       "\n",
       "                             original_title  \\\n",
       "0                                    Avatar   \n",
       "1  Pirates of the Caribbean: At World's End   \n",
       "2                                   Spectre   \n",
       "3                     The Dark Knight Rises   \n",
       "4                               John Carter   \n",
       "\n",
       "                                            overview  popularity  \\\n",
       "0  In the 22nd century, a paraplegic Marine is di...  150.437577   \n",
       "1  Captain Barbossa, long believed to be dead, ha...  139.082615   \n",
       "2  A cryptic message from Bond’s past sends him o...  107.376788   \n",
       "3  Following the death of District Attorney Harve...  112.312950   \n",
       "4  John Carter is a war-weary, former military ca...   43.926995   \n",
       "\n",
       "                                production_companies  ... runtime  \\\n",
       "0  [{\"name\": \"Ingenious Film Partners\", \"id\": 289...  ...   162.0   \n",
       "1  [{\"name\": \"Walt Disney Pictures\", \"id\": 2}, {\"...  ...   169.0   \n",
       "2  [{\"name\": \"Columbia Pictures\", \"id\": 5}, {\"nam...  ...   148.0   \n",
       "3  [{\"name\": \"Legendary Pictures\", \"id\": 923}, {\"...  ...   165.0   \n",
       "4        [{\"name\": \"Walt Disney Pictures\", \"id\": 2}]  ...   132.0   \n",
       "\n",
       "                                    spoken_languages    status  \\\n",
       "0  [{\"iso_639_1\": \"en\", \"name\": \"English\"}, {\"iso...  Released   \n",
       "1           [{\"iso_639_1\": \"en\", \"name\": \"English\"}]  Released   \n",
       "2  [{\"iso_639_1\": \"fr\", \"name\": \"Fran\\u00e7ais\"},...  Released   \n",
       "3           [{\"iso_639_1\": \"en\", \"name\": \"English\"}]  Released   \n",
       "4           [{\"iso_639_1\": \"en\", \"name\": \"English\"}]  Released   \n",
       "\n",
       "                                          tagline  \\\n",
       "0                     Enter the World of Pandora.   \n",
       "1  At the end of the world, the adventure begins.   \n",
       "2                           A Plan No One Escapes   \n",
       "3                                 The Legend Ends   \n",
       "4            Lost in our world, found in another.   \n",
       "\n",
       "                                      title vote_average vote_count  \\\n",
       "0                                    Avatar          7.2      11800   \n",
       "1  Pirates of the Caribbean: At World's End          6.9       4500   \n",
       "2                                   Spectre          6.3       4466   \n",
       "3                     The Dark Knight Rises          7.6       9106   \n",
       "4                               John Carter          6.1       2124   \n",
       "\n",
       "                                     tittle  \\\n",
       "0                                    Avatar   \n",
       "1  Pirates of the Caribbean: At World's End   \n",
       "2                                   Spectre   \n",
       "3                     The Dark Knight Rises   \n",
       "4                               John Carter   \n",
       "\n",
       "                                                cast  \\\n",
       "0  [{\"cast_id\": 242, \"character\": \"Jake Sully\", \"...   \n",
       "1  [{\"cast_id\": 4, \"character\": \"Captain Jack Spa...   \n",
       "2  [{\"cast_id\": 1, \"character\": \"James Bond\", \"cr...   \n",
       "3  [{\"cast_id\": 2, \"character\": \"Bruce Wayne / Ba...   \n",
       "4  [{\"cast_id\": 5, \"character\": \"John Carter\", \"c...   \n",
       "\n",
       "                                                crew  \n",
       "0  [{\"credit_id\": \"52fe48009251416c750aca23\", \"de...  \n",
       "1  [{\"credit_id\": \"52fe4232c3a36847f800b579\", \"de...  \n",
       "2  [{\"credit_id\": \"54805967c3a36829b5002c41\", \"de...  \n",
       "3  [{\"credit_id\": \"52fe4781c3a36847f81398c3\", \"de...  \n",
       "4  [{\"credit_id\": \"52fe479ac3a36847f813eaa3\", \"de...  \n",
       "\n",
       "[5 rows x 23 columns]"
      ]
     },
     "execution_count": 6,
     "metadata": {},
     "output_type": "execute_result"
    }
   ],
   "source": [
    "df.head()"
   ]
  },
  {
   "cell_type": "markdown",
   "id": "231d855d",
   "metadata": {},
   "source": [
    "---"
   ]
  },
  {
   "cell_type": "markdown",
   "id": "028fc08d",
   "metadata": {},
   "source": [
    "## Explore data"
   ]
  },
  {
   "cell_type": "markdown",
   "id": "6521b77a",
   "metadata": {},
   "source": [
    "Now let's make some exploration with this dataset for the detailed views to best understand this dataset"
   ]
  },
  {
   "cell_type": "markdown",
   "id": "cd860110",
   "metadata": {},
   "source": [
    "### Shape of dataset"
   ]
  },
  {
   "cell_type": "code",
   "execution_count": 7,
   "id": "b0acb892",
   "metadata": {},
   "outputs": [
    {
     "name": "stdout",
     "output_type": "stream",
     "text": [
      "This dataset have: 4803 rows, 23 columns.\n"
     ]
    }
   ],
   "source": [
    "n_rows, n_cols = df.shape\n",
    "\n",
    "print(f\"This dataset have: {n_rows} rows, {n_cols} columns.\")"
   ]
  },
  {
   "cell_type": "markdown",
   "id": "a19fe284",
   "metadata": {},
   "source": [
    "### Are there any duplicated rows?"
   ]
  },
  {
   "cell_type": "code",
   "execution_count": 8,
   "id": "a6bb6d4e",
   "metadata": {},
   "outputs": [
    {
     "name": "stdout",
     "output_type": "stream",
     "text": [
      "There are no duplicated rows!\n"
     ]
    }
   ],
   "source": [
    "num_duplicated_rows = df.duplicated().sum()\n",
    "if num_duplicated_rows == 0:\n",
    "    print(f\"There are no duplicated rows!\")\n",
    "else:\n",
    "    print(f\"There are {num_duplicated_rows} duplicated rows.\")"
   ]
  },
  {
   "cell_type": "markdown",
   "id": "9cdb2265",
   "metadata": {},
   "source": [
    "### Meaning of dataset"
   ]
  },
  {
   "cell_type": "markdown",
   "id": "4038d851",
   "metadata": {},
   "source": [
    "This dataset contains the following features:  \n",
    "    - `budget` - The budget in which the movie was made.  \n",
    "    - `genre` - The genre of the movie, Action, Comedy ,Thriller etc.  \n",
    "    - `homepage` - A link to the homepage of the movie.  \n",
    "    - `id` - This is infact the movie_id as in the first dataset.  \n",
    "    - `keywords` - The keywords or tags related to the movie.  \n",
    "    - `original_language` - The language in which the movie was made.  \n",
    "    - `original_title` - The title of the movie before translation or adaptation.  \n",
    "    - `overview` - A brief description of the movie.  \n",
    "    - `popularity` - A numeric quantity specifying the movie popularity.  \n",
    "    - `production_companies` - The production house of the movie.  \n",
    "    - `production_countries` - The country in which it was produced.  \n",
    "    - `release_date` - The date on which it was released.  \n",
    "    - `revenue` - The worldwide revenue generated by the movie.  \n",
    "    - `runtime` - The running time of the movie in minutes.  \n",
    "    - `status` - \"Released\" or \"Rumored\".  \n",
    "    - `tagline` - Movie's tagline.  \n",
    "    - `title` - Title of the movie.  \n",
    "    - `vote_average` - average ratings the movie recieved.  \n",
    "    - `vote_count` - the count of votes recieved.  \n",
    "    - `movie_id` - A unique identifier for each movie.  \n",
    "    - `cast` - The name of lead and supporting actors.  \n",
    "    - `crew` - The name of Director, Editor, Composer, Writer etc.  "
   ]
  },
  {
   "cell_type": "markdown",
   "id": "a128af8a",
   "metadata": {},
   "source": [
    "### Data types and handling missing values"
   ]
  },
  {
   "cell_type": "markdown",
   "id": "718de520",
   "metadata": {},
   "source": [
    "Let's explore the data type of each features"
   ]
  },
  {
   "cell_type": "code",
   "execution_count": 9,
   "id": "1a566b36",
   "metadata": {},
   "outputs": [
    {
     "name": "stdout",
     "output_type": "stream",
     "text": [
      "<class 'pandas.core.frame.DataFrame'>\n",
      "Int64Index: 4803 entries, 0 to 4802\n",
      "Data columns (total 23 columns):\n",
      " #   Column                Non-Null Count  Dtype  \n",
      "---  ------                --------------  -----  \n",
      " 0   budget                4803 non-null   int64  \n",
      " 1   genres                4803 non-null   object \n",
      " 2   homepage              1712 non-null   object \n",
      " 3   id                    4803 non-null   int64  \n",
      " 4   keywords              4803 non-null   object \n",
      " 5   original_language     4803 non-null   object \n",
      " 6   original_title        4803 non-null   object \n",
      " 7   overview              4800 non-null   object \n",
      " 8   popularity            4803 non-null   float64\n",
      " 9   production_companies  4803 non-null   object \n",
      " 10  production_countries  4803 non-null   object \n",
      " 11  release_date          4802 non-null   object \n",
      " 12  revenue               4803 non-null   int64  \n",
      " 13  runtime               4801 non-null   float64\n",
      " 14  spoken_languages      4803 non-null   object \n",
      " 15  status                4803 non-null   object \n",
      " 16  tagline               3959 non-null   object \n",
      " 17  title                 4803 non-null   object \n",
      " 18  vote_average          4803 non-null   float64\n",
      " 19  vote_count            4803 non-null   int64  \n",
      " 20  tittle                4803 non-null   object \n",
      " 21  cast                  4803 non-null   object \n",
      " 22  crew                  4803 non-null   object \n",
      "dtypes: float64(3), int64(4), object(16)\n",
      "memory usage: 900.6+ KB\n"
     ]
    }
   ],
   "source": [
    "df.info()"
   ]
  },
  {
   "cell_type": "code",
   "execution_count": 10,
   "id": "9325ebf2",
   "metadata": {},
   "outputs": [
    {
     "name": "stdout",
     "output_type": "stream",
     "text": [
      "Missing ratios of each feature:\n"
     ]
    },
    {
     "data": {
      "text/plain": [
       "budget                  0.000000\n",
       "genres                  0.000000\n",
       "homepage                0.643556\n",
       "id                      0.000000\n",
       "keywords                0.000000\n",
       "original_language       0.000000\n",
       "original_title          0.000000\n",
       "overview                0.000625\n",
       "popularity              0.000000\n",
       "production_companies    0.000000\n",
       "production_countries    0.000000\n",
       "release_date            0.000208\n",
       "revenue                 0.000000\n",
       "runtime                 0.000416\n",
       "spoken_languages        0.000000\n",
       "status                  0.000000\n",
       "tagline                 0.175724\n",
       "title                   0.000000\n",
       "vote_average            0.000000\n",
       "vote_count              0.000000\n",
       "tittle                  0.000000\n",
       "cast                    0.000000\n",
       "crew                    0.000000\n",
       "dtype: float64"
      ]
     },
     "execution_count": 10,
     "metadata": {},
     "output_type": "execute_result"
    }
   ],
   "source": [
    "def missing_ratio(series):\n",
    "    return series.isna().sum() / len(series)\n",
    "missing_ratio_df = df.agg(missing_ratio)\n",
    "print(\"Missing ratios of each feature:\")\n",
    "missing_ratio_df"
   ]
  },
  {
   "cell_type": "markdown",
   "id": "f5652bae",
   "metadata": {},
   "source": [
    "We can see that the missing ratio of `homepage` feature is extremely high and there are a few missing values in `overview`, `runtime` and `tagline` features. This may be due to an error in filling in the publisher value for this dataset. Since these features are not so important with our problem, we can have no processing required"
   ]
  },
  {
   "cell_type": "markdown",
   "id": "45c75f9e",
   "metadata": {},
   "source": [
    "### For each column with numeric datatype, how are the values distributed?"
   ]
  },
  {
   "cell_type": "markdown",
   "id": "24d6f6c1",
   "metadata": {},
   "source": [
    "For columns with numeric data types, I will calculate:\n",
    "- Percentage (from 0 to 100) of missing values\n",
    "- The min\n",
    "- The lower quartile (phân vị 25)\n",
    "- The median (phân vị 50)\n",
    "- The upper quartile (phân vị 75)\n",
    "- The max"
   ]
  },
  {
   "cell_type": "code",
   "execution_count": 11,
   "id": "addcf050",
   "metadata": {},
   "outputs": [
    {
     "data": {
      "text/html": [
       "<div>\n",
       "<style scoped>\n",
       "    .dataframe tbody tr th:only-of-type {\n",
       "        vertical-align: middle;\n",
       "    }\n",
       "\n",
       "    .dataframe tbody tr th {\n",
       "        vertical-align: top;\n",
       "    }\n",
       "\n",
       "    .dataframe thead th {\n",
       "        text-align: right;\n",
       "    }\n",
       "</style>\n",
       "<table border=\"1\" class=\"dataframe\">\n",
       "  <thead>\n",
       "    <tr style=\"text-align: right;\">\n",
       "      <th></th>\n",
       "      <th>budget</th>\n",
       "      <th>id</th>\n",
       "      <th>popularity</th>\n",
       "      <th>revenue</th>\n",
       "      <th>runtime</th>\n",
       "      <th>vote_average</th>\n",
       "      <th>vote_count</th>\n",
       "    </tr>\n",
       "  </thead>\n",
       "  <tbody>\n",
       "    <tr>\n",
       "      <th>missing_ratio</th>\n",
       "      <td>0.0</td>\n",
       "      <td>0.0</td>\n",
       "      <td>0.000000</td>\n",
       "      <td>0.000000e+00</td>\n",
       "      <td>0.000416</td>\n",
       "      <td>0.0</td>\n",
       "      <td>0.0</td>\n",
       "    </tr>\n",
       "    <tr>\n",
       "      <th>min</th>\n",
       "      <td>0.0</td>\n",
       "      <td>5.0</td>\n",
       "      <td>0.000000</td>\n",
       "      <td>0.000000e+00</td>\n",
       "      <td>0.000000</td>\n",
       "      <td>0.0</td>\n",
       "      <td>0.0</td>\n",
       "    </tr>\n",
       "    <tr>\n",
       "      <th>lower_quartile</th>\n",
       "      <td>790000.0</td>\n",
       "      <td>9014.5</td>\n",
       "      <td>4.668070</td>\n",
       "      <td>0.000000e+00</td>\n",
       "      <td>94.000000</td>\n",
       "      <td>5.6</td>\n",
       "      <td>54.0</td>\n",
       "    </tr>\n",
       "    <tr>\n",
       "      <th>median</th>\n",
       "      <td>15000000.0</td>\n",
       "      <td>14629.0</td>\n",
       "      <td>12.921594</td>\n",
       "      <td>1.917000e+07</td>\n",
       "      <td>103.000000</td>\n",
       "      <td>6.2</td>\n",
       "      <td>235.0</td>\n",
       "    </tr>\n",
       "    <tr>\n",
       "      <th>upper_quartile</th>\n",
       "      <td>40000000.0</td>\n",
       "      <td>58610.5</td>\n",
       "      <td>28.313505</td>\n",
       "      <td>9.291719e+07</td>\n",
       "      <td>118.000000</td>\n",
       "      <td>6.8</td>\n",
       "      <td>737.0</td>\n",
       "    </tr>\n",
       "    <tr>\n",
       "      <th>max</th>\n",
       "      <td>380000000.0</td>\n",
       "      <td>459488.0</td>\n",
       "      <td>875.581305</td>\n",
       "      <td>2.787965e+09</td>\n",
       "      <td>338.000000</td>\n",
       "      <td>10.0</td>\n",
       "      <td>13752.0</td>\n",
       "    </tr>\n",
       "  </tbody>\n",
       "</table>\n",
       "</div>"
      ],
      "text/plain": [
       "                     budget        id  popularity       revenue     runtime  \\\n",
       "missing_ratio           0.0       0.0    0.000000  0.000000e+00    0.000416   \n",
       "min                     0.0       5.0    0.000000  0.000000e+00    0.000000   \n",
       "lower_quartile     790000.0    9014.5    4.668070  0.000000e+00   94.000000   \n",
       "median           15000000.0   14629.0   12.921594  1.917000e+07  103.000000   \n",
       "upper_quartile   40000000.0   58610.5   28.313505  9.291719e+07  118.000000   \n",
       "max             380000000.0  459488.0  875.581305  2.787965e+09  338.000000   \n",
       "\n",
       "                vote_average  vote_count  \n",
       "missing_ratio            0.0         0.0  \n",
       "min                      0.0         0.0  \n",
       "lower_quartile           5.6        54.0  \n",
       "median                   6.2       235.0  \n",
       "upper_quartile           6.8       737.0  \n",
       "max                     10.0     13752.0  "
      ]
     },
     "execution_count": 11,
     "metadata": {},
     "output_type": "execute_result"
    }
   ],
   "source": [
    "num_col_info_df = None\n",
    "\n",
    "# Define lower quartile\n",
    "def lower_quartile(series):\n",
    "    return series.quantile(0.25)\n",
    "\n",
    "# Define upper quartile\n",
    "def upper_quartile(series):\n",
    "    return series.quantile(0.75)\n",
    "\n",
    "#Define median\n",
    "def median(series):\n",
    "    return series.median()\n",
    "\n",
    "num_col_info_df = df.select_dtypes(include=['int64', 'float64'])\n",
    "\n",
    "num_col_info_df = num_col_info_df.agg([missing_ratio, \"min\", lower_quartile, median, upper_quartile, \"max\"])\n",
    "\n",
    "num_col_info_df"
   ]
  },
  {
   "cell_type": "markdown",
   "id": "2c6a2492",
   "metadata": {},
   "source": [
    "### For each column with non-numeric datatype, how are the values distributed?"
   ]
  },
  {
   "cell_type": "markdown",
   "id": "9aa2d56f",
   "metadata": {},
   "source": [
    "For columns with non-numeric data types, I calculate:\n",
    "- Percentage (from 0 to 100) of missing values\n",
    "- Number of values (the values here are different values and we do not consider missing values): with columns whose type is categorical, it is a set with a finite number of categories. Directly counting the number of values in these columns doesn't make much sense, so it's better to count the number of elements of all types. \n",
    "- The percentage (from 0 to 100) of each value is sorted by decreasing percentage (we do not consider missing values, the ratio is the ratio compared to the number of non-missing values): you use a dictionary to store , key is the value, value is the percentage; With the column corresponding to each type, the method is similar to above."
   ]
  },
  {
   "cell_type": "code",
   "execution_count": 12,
   "id": "1853362d",
   "metadata": {},
   "outputs": [],
   "source": [
    "pd.set_option('display.max_colwidth', 100) # For clearly\n",
    "pd.set_option('display.max_columns', None) # For clearly"
   ]
  },
  {
   "cell_type": "code",
   "execution_count": 13,
   "id": "92ae142a",
   "metadata": {},
   "outputs": [
    {
     "data": {
      "text/html": [
       "<div>\n",
       "<style scoped>\n",
       "    .dataframe tbody tr th:only-of-type {\n",
       "        vertical-align: middle;\n",
       "    }\n",
       "\n",
       "    .dataframe tbody tr th {\n",
       "        vertical-align: top;\n",
       "    }\n",
       "\n",
       "    .dataframe thead th {\n",
       "        text-align: right;\n",
       "    }\n",
       "</style>\n",
       "<table border=\"1\" class=\"dataframe\">\n",
       "  <thead>\n",
       "    <tr style=\"text-align: right;\">\n",
       "      <th></th>\n",
       "      <th>genres</th>\n",
       "      <th>homepage</th>\n",
       "      <th>keywords</th>\n",
       "      <th>original_language</th>\n",
       "      <th>original_title</th>\n",
       "      <th>overview</th>\n",
       "      <th>production_companies</th>\n",
       "      <th>production_countries</th>\n",
       "      <th>release_date</th>\n",
       "      <th>spoken_languages</th>\n",
       "      <th>status</th>\n",
       "      <th>tagline</th>\n",
       "      <th>title</th>\n",
       "      <th>tittle</th>\n",
       "      <th>cast</th>\n",
       "      <th>crew</th>\n",
       "    </tr>\n",
       "  </thead>\n",
       "  <tbody>\n",
       "    <tr>\n",
       "      <th>missing_ratio</th>\n",
       "      <td>0.0</td>\n",
       "      <td>0.643556</td>\n",
       "      <td>0.0</td>\n",
       "      <td>0.0</td>\n",
       "      <td>0.0</td>\n",
       "      <td>0.000625</td>\n",
       "      <td>0.0</td>\n",
       "      <td>0.0</td>\n",
       "      <td>0.000208</td>\n",
       "      <td>0.0</td>\n",
       "      <td>0.0</td>\n",
       "      <td>0.175724</td>\n",
       "      <td>0.0</td>\n",
       "      <td>0.0</td>\n",
       "      <td>0.0</td>\n",
       "      <td>0.0</td>\n",
       "    </tr>\n",
       "    <tr>\n",
       "      <th>num_values</th>\n",
       "      <td>1175</td>\n",
       "      <td>1691</td>\n",
       "      <td>4222</td>\n",
       "      <td>37</td>\n",
       "      <td>4801</td>\n",
       "      <td>4800</td>\n",
       "      <td>3697</td>\n",
       "      <td>469</td>\n",
       "      <td>3280</td>\n",
       "      <td>544</td>\n",
       "      <td>3</td>\n",
       "      <td>3944</td>\n",
       "      <td>4800</td>\n",
       "      <td>4800</td>\n",
       "      <td>4761</td>\n",
       "      <td>4776</td>\n",
       "    </tr>\n",
       "    <tr>\n",
       "      <th>value_ratios</th>\n",
       "      <td>{'[{\"id\": 18, \"name\": \"Drama\"}]': 7.7, '[{\"id\": 35, \"name\": \"Comedy\"}]': 5.9, '[{\"id\": 18, \"name...</td>\n",
       "      <td>{'http://www.missionimpossible.com/': 0.1, 'http://www.kungfupanda.com/': 0.1, 'http://www.trans...</td>\n",
       "      <td>{'[]': 8.6, '[{\"id\": 10183, \"name\": \"independent film\"}]': 1.1, '[{\"id\": 187056, \"name\": \"woman ...</td>\n",
       "      <td>{'en': 93.8, 'fr': 1.5, 'es': 0.7, 'zh': 0.6, 'de': 0.6, 'hi': 0.4, 'ja': 0.3, 'it': 0.3, 'cn': ...</td>\n",
       "      <td>{'Out of the Blue': 0.0, 'Pirates of the Caribbean: On Stranger Tides': 0.0, 'The Dark Knight Ri...</td>\n",
       "      <td>{'In the 22nd century, a paraplegic Marine is dispatched to the moon Pandora on a unique mission...</td>\n",
       "      <td>{'[]': 7.3, '[{\"name\": \"Paramount Pictures\", \"id\": 4}]': 1.2, '[{\"name\": \"Universal Pictures\", \"...</td>\n",
       "      <td>{'[{\"iso_3166_1\": \"US\", \"name\": \"United States of America\"}]': 62.0, '[{\"iso_3166_1\": \"GB\", \"nam...</td>\n",
       "      <td>{'2006-01-01': 0.2, '2002-01-01': 0.2, '2007-08-17': 0.1, '2002-02-15': 0.1, '2003-08-08': 0.1, ...</td>\n",
       "      <td>{'[{\"iso_639_1\": \"en\", \"name\": \"English\"}]': 66.0, '[{\"iso_639_1\": \"en\", \"name\": \"English\"}, {\"i...</td>\n",
       "      <td>{'Released': 99.8, 'Rumored': 0.1, 'Post Production': 0.1}</td>\n",
       "      <td>{'Based on a true story.': 0.1, 'We Were Warned.': 0.0, 'Expand your universe.': 0.0, 'Take a St...</td>\n",
       "      <td>{'The Host': 0.0, 'Spectre': 0.0, 'John Carter': 0.0, 'Spider-Man 3': 0.0, 'Tangled': 0.0, 'Aven...</td>\n",
       "      <td>{'The Host': 0.0, 'Spectre': 0.0, 'John Carter': 0.0, 'Spider-Man 3': 0.0, 'Tangled': 0.0, 'Aven...</td>\n",
       "      <td>{'[]': 0.9, '[{\"cast_id\": 1, \"character\": \"James Bond\", \"credit_id\": \"52fe4d22c3a368484e1d8d6b\",...</td>\n",
       "      <td>{'[]': 0.6, '[{\"credit_id\": \"52fe4781c3a36847f81398c3\", \"department\": \"Sound\", \"gender\": 2, \"id\"...</td>\n",
       "    </tr>\n",
       "  </tbody>\n",
       "</table>\n",
       "</div>"
      ],
      "text/plain": [
       "                                                                                                            genres  \\\n",
       "missing_ratio                                                                                                  0.0   \n",
       "num_values                                                                                                    1175   \n",
       "value_ratios   {'[{\"id\": 18, \"name\": \"Drama\"}]': 7.7, '[{\"id\": 35, \"name\": \"Comedy\"}]': 5.9, '[{\"id\": 18, \"name...   \n",
       "\n",
       "                                                                                                          homepage  \\\n",
       "missing_ratio                                                                                             0.643556   \n",
       "num_values                                                                                                    1691   \n",
       "value_ratios   {'http://www.missionimpossible.com/': 0.1, 'http://www.kungfupanda.com/': 0.1, 'http://www.trans...   \n",
       "\n",
       "                                                                                                          keywords  \\\n",
       "missing_ratio                                                                                                  0.0   \n",
       "num_values                                                                                                    4222   \n",
       "value_ratios   {'[]': 8.6, '[{\"id\": 10183, \"name\": \"independent film\"}]': 1.1, '[{\"id\": 187056, \"name\": \"woman ...   \n",
       "\n",
       "                                                                                                 original_language  \\\n",
       "missing_ratio                                                                                                  0.0   \n",
       "num_values                                                                                                      37   \n",
       "value_ratios   {'en': 93.8, 'fr': 1.5, 'es': 0.7, 'zh': 0.6, 'de': 0.6, 'hi': 0.4, 'ja': 0.3, 'it': 0.3, 'cn': ...   \n",
       "\n",
       "                                                                                                    original_title  \\\n",
       "missing_ratio                                                                                                  0.0   \n",
       "num_values                                                                                                    4801   \n",
       "value_ratios   {'Out of the Blue': 0.0, 'Pirates of the Caribbean: On Stranger Tides': 0.0, 'The Dark Knight Ri...   \n",
       "\n",
       "                                                                                                          overview  \\\n",
       "missing_ratio                                                                                             0.000625   \n",
       "num_values                                                                                                    4800   \n",
       "value_ratios   {'In the 22nd century, a paraplegic Marine is dispatched to the moon Pandora on a unique mission...   \n",
       "\n",
       "                                                                                              production_companies  \\\n",
       "missing_ratio                                                                                                  0.0   \n",
       "num_values                                                                                                    3697   \n",
       "value_ratios   {'[]': 7.3, '[{\"name\": \"Paramount Pictures\", \"id\": 4}]': 1.2, '[{\"name\": \"Universal Pictures\", \"...   \n",
       "\n",
       "                                                                                              production_countries  \\\n",
       "missing_ratio                                                                                                  0.0   \n",
       "num_values                                                                                                     469   \n",
       "value_ratios   {'[{\"iso_3166_1\": \"US\", \"name\": \"United States of America\"}]': 62.0, '[{\"iso_3166_1\": \"GB\", \"nam...   \n",
       "\n",
       "                                                                                                      release_date  \\\n",
       "missing_ratio                                                                                             0.000208   \n",
       "num_values                                                                                                    3280   \n",
       "value_ratios   {'2006-01-01': 0.2, '2002-01-01': 0.2, '2007-08-17': 0.1, '2002-02-15': 0.1, '2003-08-08': 0.1, ...   \n",
       "\n",
       "                                                                                                  spoken_languages  \\\n",
       "missing_ratio                                                                                                  0.0   \n",
       "num_values                                                                                                     544   \n",
       "value_ratios   {'[{\"iso_639_1\": \"en\", \"name\": \"English\"}]': 66.0, '[{\"iso_639_1\": \"en\", \"name\": \"English\"}, {\"i...   \n",
       "\n",
       "                                                                   status  \\\n",
       "missing_ratio                                                         0.0   \n",
       "num_values                                                              3   \n",
       "value_ratios   {'Released': 99.8, 'Rumored': 0.1, 'Post Production': 0.1}   \n",
       "\n",
       "                                                                                                           tagline  \\\n",
       "missing_ratio                                                                                             0.175724   \n",
       "num_values                                                                                                    3944   \n",
       "value_ratios   {'Based on a true story.': 0.1, 'We Were Warned.': 0.0, 'Expand your universe.': 0.0, 'Take a St...   \n",
       "\n",
       "                                                                                                             title  \\\n",
       "missing_ratio                                                                                                  0.0   \n",
       "num_values                                                                                                    4800   \n",
       "value_ratios   {'The Host': 0.0, 'Spectre': 0.0, 'John Carter': 0.0, 'Spider-Man 3': 0.0, 'Tangled': 0.0, 'Aven...   \n",
       "\n",
       "                                                                                                            tittle  \\\n",
       "missing_ratio                                                                                                  0.0   \n",
       "num_values                                                                                                    4800   \n",
       "value_ratios   {'The Host': 0.0, 'Spectre': 0.0, 'John Carter': 0.0, 'Spider-Man 3': 0.0, 'Tangled': 0.0, 'Aven...   \n",
       "\n",
       "                                                                                                              cast  \\\n",
       "missing_ratio                                                                                                  0.0   \n",
       "num_values                                                                                                    4761   \n",
       "value_ratios   {'[]': 0.9, '[{\"cast_id\": 1, \"character\": \"James Bond\", \"credit_id\": \"52fe4d22c3a368484e1d8d6b\",...   \n",
       "\n",
       "                                                                                                              crew  \n",
       "missing_ratio                                                                                                  0.0  \n",
       "num_values                                                                                                    4776  \n",
       "value_ratios   {'[]': 0.6, '[{\"credit_id\": \"52fe4781c3a36847f81398c3\", \"department\": \"Sound\", \"gender\": 2, \"id\"...  "
      ]
     },
     "execution_count": 13,
     "metadata": {},
     "output_type": "execute_result"
    }
   ],
   "source": [
    "# YOUR CODE HERE\n",
    "cat_col_info_df = df.select_dtypes(include='object')\n",
    "\n",
    "# Define num values\n",
    "def num_values(series):\n",
    "    return len(series.dropna().unique())\n",
    "\n",
    "# Define value ratios\n",
    "def value_ratios(series):\n",
    "    value_counts = series.dropna().value_counts()\n",
    "    percentages = (value_counts / len(series))*100\n",
    "    percentages = percentages.round(1)\n",
    "    sorted_percentages = percentages.sort_values(ascending=False)\n",
    "    return sorted_percentages.to_dict()\n",
    "cat_col_info_df = cat_col_info_df.agg([missing_ratio, num_values, value_ratios])\n",
    "cat_col_info_df"
   ]
  },
  {
   "cell_type": "markdown",
   "id": "75a7a74f",
   "metadata": {},
   "source": [
    "---"
   ]
  },
  {
   "cell_type": "markdown",
   "id": "82653468",
   "metadata": {},
   "source": [
    "## Question"
   ]
  },
  {
   "cell_type": "markdown",
   "id": "23f689db",
   "metadata": {},
   "source": [
    "Just have a look again at our dataset"
   ]
  },
  {
   "cell_type": "code",
   "execution_count": 14,
   "id": "7db912a6",
   "metadata": {},
   "outputs": [
    {
     "data": {
      "text/html": [
       "<div>\n",
       "<style scoped>\n",
       "    .dataframe tbody tr th:only-of-type {\n",
       "        vertical-align: middle;\n",
       "    }\n",
       "\n",
       "    .dataframe tbody tr th {\n",
       "        vertical-align: top;\n",
       "    }\n",
       "\n",
       "    .dataframe thead th {\n",
       "        text-align: right;\n",
       "    }\n",
       "</style>\n",
       "<table border=\"1\" class=\"dataframe\">\n",
       "  <thead>\n",
       "    <tr style=\"text-align: right;\">\n",
       "      <th></th>\n",
       "      <th>budget</th>\n",
       "      <th>genres</th>\n",
       "      <th>homepage</th>\n",
       "      <th>id</th>\n",
       "      <th>keywords</th>\n",
       "      <th>original_language</th>\n",
       "      <th>original_title</th>\n",
       "      <th>overview</th>\n",
       "      <th>popularity</th>\n",
       "      <th>production_companies</th>\n",
       "      <th>production_countries</th>\n",
       "      <th>release_date</th>\n",
       "      <th>revenue</th>\n",
       "      <th>runtime</th>\n",
       "      <th>spoken_languages</th>\n",
       "      <th>status</th>\n",
       "      <th>tagline</th>\n",
       "      <th>title</th>\n",
       "      <th>vote_average</th>\n",
       "      <th>vote_count</th>\n",
       "      <th>tittle</th>\n",
       "      <th>cast</th>\n",
       "      <th>crew</th>\n",
       "    </tr>\n",
       "  </thead>\n",
       "  <tbody>\n",
       "    <tr>\n",
       "      <th>0</th>\n",
       "      <td>237000000</td>\n",
       "      <td>[{\"id\": 28, \"name\": \"Action\"}, {\"id\": 12, \"name\": \"Adventure\"}, {\"id\": 14, \"name\": \"Fantasy\"}, {...</td>\n",
       "      <td>http://www.avatarmovie.com/</td>\n",
       "      <td>19995</td>\n",
       "      <td>[{\"id\": 1463, \"name\": \"culture clash\"}, {\"id\": 2964, \"name\": \"future\"}, {\"id\": 3386, \"name\": \"sp...</td>\n",
       "      <td>en</td>\n",
       "      <td>Avatar</td>\n",
       "      <td>In the 22nd century, a paraplegic Marine is dispatched to the moon Pandora on a unique mission, ...</td>\n",
       "      <td>150.437577</td>\n",
       "      <td>[{\"name\": \"Ingenious Film Partners\", \"id\": 289}, {\"name\": \"Twentieth Century Fox Film Corporatio...</td>\n",
       "      <td>[{\"iso_3166_1\": \"US\", \"name\": \"United States of America\"}, {\"iso_3166_1\": \"GB\", \"name\": \"United ...</td>\n",
       "      <td>2009-12-10</td>\n",
       "      <td>2787965087</td>\n",
       "      <td>162.0</td>\n",
       "      <td>[{\"iso_639_1\": \"en\", \"name\": \"English\"}, {\"iso_639_1\": \"es\", \"name\": \"Espa\\u00f1ol\"}]</td>\n",
       "      <td>Released</td>\n",
       "      <td>Enter the World of Pandora.</td>\n",
       "      <td>Avatar</td>\n",
       "      <td>7.2</td>\n",
       "      <td>11800</td>\n",
       "      <td>Avatar</td>\n",
       "      <td>[{\"cast_id\": 242, \"character\": \"Jake Sully\", \"credit_id\": \"5602a8a7c3a3685532001c9a\", \"gender\": ...</td>\n",
       "      <td>[{\"credit_id\": \"52fe48009251416c750aca23\", \"department\": \"Editing\", \"gender\": 0, \"id\": 1721, \"jo...</td>\n",
       "    </tr>\n",
       "    <tr>\n",
       "      <th>1</th>\n",
       "      <td>300000000</td>\n",
       "      <td>[{\"id\": 12, \"name\": \"Adventure\"}, {\"id\": 14, \"name\": \"Fantasy\"}, {\"id\": 28, \"name\": \"Action\"}]</td>\n",
       "      <td>http://disney.go.com/disneypictures/pirates/</td>\n",
       "      <td>285</td>\n",
       "      <td>[{\"id\": 270, \"name\": \"ocean\"}, {\"id\": 726, \"name\": \"drug abuse\"}, {\"id\": 911, \"name\": \"exotic is...</td>\n",
       "      <td>en</td>\n",
       "      <td>Pirates of the Caribbean: At World's End</td>\n",
       "      <td>Captain Barbossa, long believed to be dead, has come back to life and is headed to the edge of t...</td>\n",
       "      <td>139.082615</td>\n",
       "      <td>[{\"name\": \"Walt Disney Pictures\", \"id\": 2}, {\"name\": \"Jerry Bruckheimer Films\", \"id\": 130}, {\"na...</td>\n",
       "      <td>[{\"iso_3166_1\": \"US\", \"name\": \"United States of America\"}]</td>\n",
       "      <td>2007-05-19</td>\n",
       "      <td>961000000</td>\n",
       "      <td>169.0</td>\n",
       "      <td>[{\"iso_639_1\": \"en\", \"name\": \"English\"}]</td>\n",
       "      <td>Released</td>\n",
       "      <td>At the end of the world, the adventure begins.</td>\n",
       "      <td>Pirates of the Caribbean: At World's End</td>\n",
       "      <td>6.9</td>\n",
       "      <td>4500</td>\n",
       "      <td>Pirates of the Caribbean: At World's End</td>\n",
       "      <td>[{\"cast_id\": 4, \"character\": \"Captain Jack Sparrow\", \"credit_id\": \"52fe4232c3a36847f800b50d\", \"g...</td>\n",
       "      <td>[{\"credit_id\": \"52fe4232c3a36847f800b579\", \"department\": \"Camera\", \"gender\": 2, \"id\": 120, \"job\"...</td>\n",
       "    </tr>\n",
       "    <tr>\n",
       "      <th>2</th>\n",
       "      <td>245000000</td>\n",
       "      <td>[{\"id\": 28, \"name\": \"Action\"}, {\"id\": 12, \"name\": \"Adventure\"}, {\"id\": 80, \"name\": \"Crime\"}]</td>\n",
       "      <td>http://www.sonypictures.com/movies/spectre/</td>\n",
       "      <td>206647</td>\n",
       "      <td>[{\"id\": 470, \"name\": \"spy\"}, {\"id\": 818, \"name\": \"based on novel\"}, {\"id\": 4289, \"name\": \"secret...</td>\n",
       "      <td>en</td>\n",
       "      <td>Spectre</td>\n",
       "      <td>A cryptic message from Bond’s past sends him on a trail to uncover a sinister organization. Whil...</td>\n",
       "      <td>107.376788</td>\n",
       "      <td>[{\"name\": \"Columbia Pictures\", \"id\": 5}, {\"name\": \"Danjaq\", \"id\": 10761}, {\"name\": \"B24\", \"id\": ...</td>\n",
       "      <td>[{\"iso_3166_1\": \"GB\", \"name\": \"United Kingdom\"}, {\"iso_3166_1\": \"US\", \"name\": \"United States of ...</td>\n",
       "      <td>2015-10-26</td>\n",
       "      <td>880674609</td>\n",
       "      <td>148.0</td>\n",
       "      <td>[{\"iso_639_1\": \"fr\", \"name\": \"Fran\\u00e7ais\"}, {\"iso_639_1\": \"en\", \"name\": \"English\"}, {\"iso_639...</td>\n",
       "      <td>Released</td>\n",
       "      <td>A Plan No One Escapes</td>\n",
       "      <td>Spectre</td>\n",
       "      <td>6.3</td>\n",
       "      <td>4466</td>\n",
       "      <td>Spectre</td>\n",
       "      <td>[{\"cast_id\": 1, \"character\": \"James Bond\", \"credit_id\": \"52fe4d22c3a368484e1d8d6b\", \"gender\": 2,...</td>\n",
       "      <td>[{\"credit_id\": \"54805967c3a36829b5002c41\", \"department\": \"Sound\", \"gender\": 2, \"id\": 153, \"job\":...</td>\n",
       "    </tr>\n",
       "    <tr>\n",
       "      <th>3</th>\n",
       "      <td>250000000</td>\n",
       "      <td>[{\"id\": 28, \"name\": \"Action\"}, {\"id\": 80, \"name\": \"Crime\"}, {\"id\": 18, \"name\": \"Drama\"}, {\"id\": ...</td>\n",
       "      <td>http://www.thedarkknightrises.com/</td>\n",
       "      <td>49026</td>\n",
       "      <td>[{\"id\": 849, \"name\": \"dc comics\"}, {\"id\": 853, \"name\": \"crime fighter\"}, {\"id\": 949, \"name\": \"te...</td>\n",
       "      <td>en</td>\n",
       "      <td>The Dark Knight Rises</td>\n",
       "      <td>Following the death of District Attorney Harvey Dent, Batman assumes responsibility for Dent's c...</td>\n",
       "      <td>112.312950</td>\n",
       "      <td>[{\"name\": \"Legendary Pictures\", \"id\": 923}, {\"name\": \"Warner Bros.\", \"id\": 6194}, {\"name\": \"DC E...</td>\n",
       "      <td>[{\"iso_3166_1\": \"US\", \"name\": \"United States of America\"}]</td>\n",
       "      <td>2012-07-16</td>\n",
       "      <td>1084939099</td>\n",
       "      <td>165.0</td>\n",
       "      <td>[{\"iso_639_1\": \"en\", \"name\": \"English\"}]</td>\n",
       "      <td>Released</td>\n",
       "      <td>The Legend Ends</td>\n",
       "      <td>The Dark Knight Rises</td>\n",
       "      <td>7.6</td>\n",
       "      <td>9106</td>\n",
       "      <td>The Dark Knight Rises</td>\n",
       "      <td>[{\"cast_id\": 2, \"character\": \"Bruce Wayne / Batman\", \"credit_id\": \"52fe4781c3a36847f8139869\", \"g...</td>\n",
       "      <td>[{\"credit_id\": \"52fe4781c3a36847f81398c3\", \"department\": \"Sound\", \"gender\": 2, \"id\": 947, \"job\":...</td>\n",
       "    </tr>\n",
       "    <tr>\n",
       "      <th>4</th>\n",
       "      <td>260000000</td>\n",
       "      <td>[{\"id\": 28, \"name\": \"Action\"}, {\"id\": 12, \"name\": \"Adventure\"}, {\"id\": 878, \"name\": \"Science Fic...</td>\n",
       "      <td>http://movies.disney.com/john-carter</td>\n",
       "      <td>49529</td>\n",
       "      <td>[{\"id\": 818, \"name\": \"based on novel\"}, {\"id\": 839, \"name\": \"mars\"}, {\"id\": 1456, \"name\": \"medal...</td>\n",
       "      <td>en</td>\n",
       "      <td>John Carter</td>\n",
       "      <td>John Carter is a war-weary, former military captain who's inexplicably transported to the myster...</td>\n",
       "      <td>43.926995</td>\n",
       "      <td>[{\"name\": \"Walt Disney Pictures\", \"id\": 2}]</td>\n",
       "      <td>[{\"iso_3166_1\": \"US\", \"name\": \"United States of America\"}]</td>\n",
       "      <td>2012-03-07</td>\n",
       "      <td>284139100</td>\n",
       "      <td>132.0</td>\n",
       "      <td>[{\"iso_639_1\": \"en\", \"name\": \"English\"}]</td>\n",
       "      <td>Released</td>\n",
       "      <td>Lost in our world, found in another.</td>\n",
       "      <td>John Carter</td>\n",
       "      <td>6.1</td>\n",
       "      <td>2124</td>\n",
       "      <td>John Carter</td>\n",
       "      <td>[{\"cast_id\": 5, \"character\": \"John Carter\", \"credit_id\": \"52fe479ac3a36847f813ea75\", \"gender\": 2...</td>\n",
       "      <td>[{\"credit_id\": \"52fe479ac3a36847f813eaa3\", \"department\": \"Writing\", \"gender\": 2, \"id\": 7, \"job\":...</td>\n",
       "    </tr>\n",
       "  </tbody>\n",
       "</table>\n",
       "</div>"
      ],
      "text/plain": [
       "      budget  \\\n",
       "0  237000000   \n",
       "1  300000000   \n",
       "2  245000000   \n",
       "3  250000000   \n",
       "4  260000000   \n",
       "\n",
       "                                                                                                genres  \\\n",
       "0  [{\"id\": 28, \"name\": \"Action\"}, {\"id\": 12, \"name\": \"Adventure\"}, {\"id\": 14, \"name\": \"Fantasy\"}, {...   \n",
       "1       [{\"id\": 12, \"name\": \"Adventure\"}, {\"id\": 14, \"name\": \"Fantasy\"}, {\"id\": 28, \"name\": \"Action\"}]   \n",
       "2         [{\"id\": 28, \"name\": \"Action\"}, {\"id\": 12, \"name\": \"Adventure\"}, {\"id\": 80, \"name\": \"Crime\"}]   \n",
       "3  [{\"id\": 28, \"name\": \"Action\"}, {\"id\": 80, \"name\": \"Crime\"}, {\"id\": 18, \"name\": \"Drama\"}, {\"id\": ...   \n",
       "4  [{\"id\": 28, \"name\": \"Action\"}, {\"id\": 12, \"name\": \"Adventure\"}, {\"id\": 878, \"name\": \"Science Fic...   \n",
       "\n",
       "                                       homepage      id  \\\n",
       "0                   http://www.avatarmovie.com/   19995   \n",
       "1  http://disney.go.com/disneypictures/pirates/     285   \n",
       "2   http://www.sonypictures.com/movies/spectre/  206647   \n",
       "3            http://www.thedarkknightrises.com/   49026   \n",
       "4          http://movies.disney.com/john-carter   49529   \n",
       "\n",
       "                                                                                              keywords  \\\n",
       "0  [{\"id\": 1463, \"name\": \"culture clash\"}, {\"id\": 2964, \"name\": \"future\"}, {\"id\": 3386, \"name\": \"sp...   \n",
       "1  [{\"id\": 270, \"name\": \"ocean\"}, {\"id\": 726, \"name\": \"drug abuse\"}, {\"id\": 911, \"name\": \"exotic is...   \n",
       "2  [{\"id\": 470, \"name\": \"spy\"}, {\"id\": 818, \"name\": \"based on novel\"}, {\"id\": 4289, \"name\": \"secret...   \n",
       "3  [{\"id\": 849, \"name\": \"dc comics\"}, {\"id\": 853, \"name\": \"crime fighter\"}, {\"id\": 949, \"name\": \"te...   \n",
       "4  [{\"id\": 818, \"name\": \"based on novel\"}, {\"id\": 839, \"name\": \"mars\"}, {\"id\": 1456, \"name\": \"medal...   \n",
       "\n",
       "  original_language                            original_title  \\\n",
       "0                en                                    Avatar   \n",
       "1                en  Pirates of the Caribbean: At World's End   \n",
       "2                en                                   Spectre   \n",
       "3                en                     The Dark Knight Rises   \n",
       "4                en                               John Carter   \n",
       "\n",
       "                                                                                              overview  \\\n",
       "0  In the 22nd century, a paraplegic Marine is dispatched to the moon Pandora on a unique mission, ...   \n",
       "1  Captain Barbossa, long believed to be dead, has come back to life and is headed to the edge of t...   \n",
       "2  A cryptic message from Bond’s past sends him on a trail to uncover a sinister organization. Whil...   \n",
       "3  Following the death of District Attorney Harvey Dent, Batman assumes responsibility for Dent's c...   \n",
       "4  John Carter is a war-weary, former military captain who's inexplicably transported to the myster...   \n",
       "\n",
       "   popularity  \\\n",
       "0  150.437577   \n",
       "1  139.082615   \n",
       "2  107.376788   \n",
       "3  112.312950   \n",
       "4   43.926995   \n",
       "\n",
       "                                                                                  production_companies  \\\n",
       "0  [{\"name\": \"Ingenious Film Partners\", \"id\": 289}, {\"name\": \"Twentieth Century Fox Film Corporatio...   \n",
       "1  [{\"name\": \"Walt Disney Pictures\", \"id\": 2}, {\"name\": \"Jerry Bruckheimer Films\", \"id\": 130}, {\"na...   \n",
       "2  [{\"name\": \"Columbia Pictures\", \"id\": 5}, {\"name\": \"Danjaq\", \"id\": 10761}, {\"name\": \"B24\", \"id\": ...   \n",
       "3  [{\"name\": \"Legendary Pictures\", \"id\": 923}, {\"name\": \"Warner Bros.\", \"id\": 6194}, {\"name\": \"DC E...   \n",
       "4                                                          [{\"name\": \"Walt Disney Pictures\", \"id\": 2}]   \n",
       "\n",
       "                                                                                  production_countries  \\\n",
       "0  [{\"iso_3166_1\": \"US\", \"name\": \"United States of America\"}, {\"iso_3166_1\": \"GB\", \"name\": \"United ...   \n",
       "1                                           [{\"iso_3166_1\": \"US\", \"name\": \"United States of America\"}]   \n",
       "2  [{\"iso_3166_1\": \"GB\", \"name\": \"United Kingdom\"}, {\"iso_3166_1\": \"US\", \"name\": \"United States of ...   \n",
       "3                                           [{\"iso_3166_1\": \"US\", \"name\": \"United States of America\"}]   \n",
       "4                                           [{\"iso_3166_1\": \"US\", \"name\": \"United States of America\"}]   \n",
       "\n",
       "  release_date     revenue  runtime  \\\n",
       "0   2009-12-10  2787965087    162.0   \n",
       "1   2007-05-19   961000000    169.0   \n",
       "2   2015-10-26   880674609    148.0   \n",
       "3   2012-07-16  1084939099    165.0   \n",
       "4   2012-03-07   284139100    132.0   \n",
       "\n",
       "                                                                                      spoken_languages  \\\n",
       "0                [{\"iso_639_1\": \"en\", \"name\": \"English\"}, {\"iso_639_1\": \"es\", \"name\": \"Espa\\u00f1ol\"}]   \n",
       "1                                                             [{\"iso_639_1\": \"en\", \"name\": \"English\"}]   \n",
       "2  [{\"iso_639_1\": \"fr\", \"name\": \"Fran\\u00e7ais\"}, {\"iso_639_1\": \"en\", \"name\": \"English\"}, {\"iso_639...   \n",
       "3                                                             [{\"iso_639_1\": \"en\", \"name\": \"English\"}]   \n",
       "4                                                             [{\"iso_639_1\": \"en\", \"name\": \"English\"}]   \n",
       "\n",
       "     status                                         tagline  \\\n",
       "0  Released                     Enter the World of Pandora.   \n",
       "1  Released  At the end of the world, the adventure begins.   \n",
       "2  Released                           A Plan No One Escapes   \n",
       "3  Released                                 The Legend Ends   \n",
       "4  Released            Lost in our world, found in another.   \n",
       "\n",
       "                                      title  vote_average  vote_count  \\\n",
       "0                                    Avatar           7.2       11800   \n",
       "1  Pirates of the Caribbean: At World's End           6.9        4500   \n",
       "2                                   Spectre           6.3        4466   \n",
       "3                     The Dark Knight Rises           7.6        9106   \n",
       "4                               John Carter           6.1        2124   \n",
       "\n",
       "                                     tittle  \\\n",
       "0                                    Avatar   \n",
       "1  Pirates of the Caribbean: At World's End   \n",
       "2                                   Spectre   \n",
       "3                     The Dark Knight Rises   \n",
       "4                               John Carter   \n",
       "\n",
       "                                                                                                  cast  \\\n",
       "0  [{\"cast_id\": 242, \"character\": \"Jake Sully\", \"credit_id\": \"5602a8a7c3a3685532001c9a\", \"gender\": ...   \n",
       "1  [{\"cast_id\": 4, \"character\": \"Captain Jack Sparrow\", \"credit_id\": \"52fe4232c3a36847f800b50d\", \"g...   \n",
       "2  [{\"cast_id\": 1, \"character\": \"James Bond\", \"credit_id\": \"52fe4d22c3a368484e1d8d6b\", \"gender\": 2,...   \n",
       "3  [{\"cast_id\": 2, \"character\": \"Bruce Wayne / Batman\", \"credit_id\": \"52fe4781c3a36847f8139869\", \"g...   \n",
       "4  [{\"cast_id\": 5, \"character\": \"John Carter\", \"credit_id\": \"52fe479ac3a36847f813ea75\", \"gender\": 2...   \n",
       "\n",
       "                                                                                                  crew  \n",
       "0  [{\"credit_id\": \"52fe48009251416c750aca23\", \"department\": \"Editing\", \"gender\": 0, \"id\": 1721, \"jo...  \n",
       "1  [{\"credit_id\": \"52fe4232c3a36847f800b579\", \"department\": \"Camera\", \"gender\": 2, \"id\": 120, \"job\"...  \n",
       "2  [{\"credit_id\": \"54805967c3a36829b5002c41\", \"department\": \"Sound\", \"gender\": 2, \"id\": 153, \"job\":...  \n",
       "3  [{\"credit_id\": \"52fe4781c3a36847f81398c3\", \"department\": \"Sound\", \"gender\": 2, \"id\": 947, \"job\":...  \n",
       "4  [{\"credit_id\": \"52fe479ac3a36847f813eaa3\", \"department\": \"Writing\", \"gender\": 2, \"id\": 7, \"job\":...  "
      ]
     },
     "execution_count": 14,
     "metadata": {},
     "output_type": "execute_result"
    }
   ],
   "source": [
    "df.head()"
   ]
  },
  {
   "cell_type": "markdown",
   "id": "8ed50d1c",
   "metadata": {},
   "source": [
    "One interesting question to ask is: *For each different user, is it possible to recommend animes that the user has never watched before?*\n",
    "\n",
    "Finding an answer to this question can be beneficial for both users and movie streaming service providers:\n",
    "- Users: Users may want to watch a movie, but with so many options available, they may not know which one to choose. It would be convenient for users if the system could suggest a list of movies that they are likely to enjoy.\n",
    "- Movie Streaming Service Providers: If the system makes good recommendations, it's more likely that users will watch and enjoy the movies. This, in turn, means users will continue to pay for the service."
   ]
  },
  {
   "cell_type": "markdown",
   "id": "f53cab5c",
   "metadata": {},
   "source": [
    "*To solve this problem, I will present the methods which I have studied below*"
   ]
  },
  {
   "cell_type": "markdown",
   "id": "a3bfc86b",
   "metadata": {},
   "source": [
    "### Demographic filtering"
   ]
  },
  {
   "cell_type": "markdown",
   "id": "3151dd54",
   "metadata": {},
   "source": [
    "This method use a metric to score for each movies, then sort and recommend the best rated movies to user"
   ]
  },
  {
   "cell_type": "markdown",
   "id": "44d892b4",
   "metadata": {},
   "source": [
    "In this dataset, we can use `vote_average` to score for all movies but it's not fair since that there are movies with high average ratings but have few votes and vice versa. For example, a movie with 8.1 average rating and 10 votes can not be consider better than a movie with 7.2 as average rating and 3402 votes. So that, I will make a simple formula to score for each movie:"
   ]
  },
  {
   "cell_type": "markdown",
   "id": "61714048",
   "metadata": {},
   "source": [
    "$$Score = \\frac{vote\\_average \\times vote\\_count}{vote\\_count + C} + \\frac{C \\times m}{vote\\_count + C}$$"
   ]
  },
  {
   "cell_type": "markdown",
   "id": "18a049f2",
   "metadata": {},
   "source": [
    "In this formula:\n",
    "\n",
    "   - `vote_average` is the average rating of the movie.\n",
    "   - `vote_count` is the number of votes received for the movie.\n",
    "   - `C` is a constant representing the average number of votes across all movies (to prevent bias towards movies with very few votes).\n",
    "   - `m` is the average rating across all movies."
   ]
  },
  {
   "cell_type": "markdown",
   "id": "343dbce7",
   "metadata": {},
   "source": [
    "We already have `vote_count` and `vote_average`. `C` and `m` can be calculated as"
   ]
  },
  {
   "cell_type": "code",
   "execution_count": 15,
   "id": "ac0c034f",
   "metadata": {},
   "outputs": [
    {
     "data": {
      "text/plain": [
       "690.2179887570269"
      ]
     },
     "execution_count": 15,
     "metadata": {},
     "output_type": "execute_result"
    }
   ],
   "source": [
    "C= df['vote_count'].mean()\n",
    "C"
   ]
  },
  {
   "cell_type": "code",
   "execution_count": 16,
   "id": "706d2bfd",
   "metadata": {},
   "outputs": [
    {
     "data": {
      "text/plain": [
       "6.092171559442011"
      ]
     },
     "execution_count": 16,
     "metadata": {},
     "output_type": "execute_result"
    }
   ],
   "source": [
    "m = df['vote_average'].mean()\n",
    "m"
   ]
  },
  {
   "cell_type": "markdown",
   "id": "3697e365",
   "metadata": {},
   "source": [
    "Great! Now we have all parameters for our score function"
   ]
  },
  {
   "cell_type": "code",
   "execution_count": 17,
   "id": "7e36d1af",
   "metadata": {},
   "outputs": [],
   "source": [
    "def score(x, m=m, C=C):\n",
    "    a = x['vote_count']\n",
    "    b = x['vote_average']\n",
    "    # Calculation based on the formula above\n",
    "    return ((a*b)/(a+C)) + ((C*m)/(a+C))"
   ]
  },
  {
   "cell_type": "code",
   "execution_count": 18,
   "id": "726bff69",
   "metadata": {},
   "outputs": [],
   "source": [
    "# Define a new feature 'score' and calculate its value with `score()`\n",
    "df['score'] = df.apply(score, axis=1)"
   ]
  },
  {
   "cell_type": "code",
   "execution_count": 19,
   "id": "1aa09023",
   "metadata": {},
   "outputs": [
    {
     "data": {
      "text/html": [
       "<div>\n",
       "<style scoped>\n",
       "    .dataframe tbody tr th:only-of-type {\n",
       "        vertical-align: middle;\n",
       "    }\n",
       "\n",
       "    .dataframe tbody tr th {\n",
       "        vertical-align: top;\n",
       "    }\n",
       "\n",
       "    .dataframe thead th {\n",
       "        text-align: right;\n",
       "    }\n",
       "</style>\n",
       "<table border=\"1\" class=\"dataframe\">\n",
       "  <thead>\n",
       "    <tr style=\"text-align: right;\">\n",
       "      <th></th>\n",
       "      <th>title</th>\n",
       "      <th>vote_count</th>\n",
       "      <th>vote_average</th>\n",
       "      <th>score</th>\n",
       "    </tr>\n",
       "  </thead>\n",
       "  <tbody>\n",
       "    <tr>\n",
       "      <th>1881</th>\n",
       "      <td>The Shawshank Redemption</td>\n",
       "      <td>8205</td>\n",
       "      <td>8.5</td>\n",
       "      <td>8.313166</td>\n",
       "    </tr>\n",
       "    <tr>\n",
       "      <th>3337</th>\n",
       "      <td>The Godfather</td>\n",
       "      <td>5893</td>\n",
       "      <td>8.4</td>\n",
       "      <td>8.158036</td>\n",
       "    </tr>\n",
       "    <tr>\n",
       "      <th>662</th>\n",
       "      <td>Fight Club</td>\n",
       "      <td>9413</td>\n",
       "      <td>8.3</td>\n",
       "      <td>8.149169</td>\n",
       "    </tr>\n",
       "    <tr>\n",
       "      <th>3232</th>\n",
       "      <td>Pulp Fiction</td>\n",
       "      <td>8428</td>\n",
       "      <td>8.3</td>\n",
       "      <td>8.132875</td>\n",
       "    </tr>\n",
       "    <tr>\n",
       "      <th>65</th>\n",
       "      <td>The Dark Knight</td>\n",
       "      <td>12002</td>\n",
       "      <td>8.2</td>\n",
       "      <td>8.085374</td>\n",
       "    </tr>\n",
       "    <tr>\n",
       "      <th>809</th>\n",
       "      <td>Forrest Gump</td>\n",
       "      <td>7927</td>\n",
       "      <td>8.2</td>\n",
       "      <td>8.031168</td>\n",
       "    </tr>\n",
       "    <tr>\n",
       "      <th>96</th>\n",
       "      <td>Inception</td>\n",
       "      <td>13752</td>\n",
       "      <td>8.1</td>\n",
       "      <td>8.004042</td>\n",
       "    </tr>\n",
       "    <tr>\n",
       "      <th>1818</th>\n",
       "      <td>Schindler's List</td>\n",
       "      <td>4329</td>\n",
       "      <td>8.3</td>\n",
       "      <td>7.996390</td>\n",
       "    </tr>\n",
       "    <tr>\n",
       "      <th>3865</th>\n",
       "      <td>Whiplash</td>\n",
       "      <td>4254</td>\n",
       "      <td>8.3</td>\n",
       "      <td>7.991785</td>\n",
       "    </tr>\n",
       "    <tr>\n",
       "      <th>95</th>\n",
       "      <td>Interstellar</td>\n",
       "      <td>10867</td>\n",
       "      <td>8.1</td>\n",
       "      <td>7.980089</td>\n",
       "    </tr>\n",
       "  </tbody>\n",
       "</table>\n",
       "</div>"
      ],
      "text/plain": [
       "                         title  vote_count  vote_average     score\n",
       "1881  The Shawshank Redemption        8205           8.5  8.313166\n",
       "3337             The Godfather        5893           8.4  8.158036\n",
       "662                 Fight Club        9413           8.3  8.149169\n",
       "3232              Pulp Fiction        8428           8.3  8.132875\n",
       "65             The Dark Knight       12002           8.2  8.085374\n",
       "809               Forrest Gump        7927           8.2  8.031168\n",
       "96                   Inception       13752           8.1  8.004042\n",
       "1818          Schindler's List        4329           8.3  7.996390\n",
       "3865                  Whiplash        4254           8.3  7.991785\n",
       "95                Interstellar       10867           8.1  7.980089"
      ]
     },
     "execution_count": 19,
     "metadata": {},
     "output_type": "execute_result"
    }
   ],
   "source": [
    "#Sort movies based on score calculated above\n",
    "demo_filter_df = df.sort_values('score', ascending=False)\n",
    "\n",
    "#Print the top 10 movies\n",
    "demo_filter_df[['title', 'vote_count', 'vote_average', 'score']].head(10)"
   ]
  },
  {
   "cell_type": "markdown",
   "id": "00aa2837",
   "metadata": {},
   "source": [
    "Beside that, we can use the popularity of the movie and recommend the most popular movies for users"
   ]
  },
  {
   "cell_type": "code",
   "execution_count": 20,
   "id": "14b61423",
   "metadata": {},
   "outputs": [
    {
     "data": {
      "text/plain": [
       "Text(0.5, 1.0, 'Popular Movies')"
      ]
     },
     "execution_count": 20,
     "metadata": {},
     "output_type": "execute_result"
    },
    {
     "data": {
      "image/png": "[encoded data removed]",
      "text/plain": [
       "<Figure size 1200x400 with 1 Axes>"
      ]
     },
     "metadata": {},
     "output_type": "display_data"
    }
   ],
   "source": [
    "pop= df.sort_values('popularity', ascending=False).head(5)\n",
    "plt.figure(figsize=(12,4))\n",
    "\n",
    "plt.barh(pop['title'],pop['popularity'], align='center',color='skyblue')\n",
    "plt.gca().invert_yaxis()\n",
    "plt.xlabel(\"Popularity\")\n",
    "plt.title(\"Popular Movies\")"
   ]
  },
  {
   "cell_type": "markdown",
   "id": "0000693d",
   "metadata": {},
   "source": [
    "**Demographic filtering** method is based on how we score each movie, which can come from our subjective perspective. Beside, we can easily see that this method only relies on the majority of users for suggestions. This may not be suitable for specific user groups. This is when we move on to a more refined system - **Content Based Filtering**."
   ]
  },
  {
   "cell_type": "markdown",
   "id": "3c3c0f8d",
   "metadata": {},
   "source": [
    "### Content-Based Filtering"
   ]
  },
  {
   "cell_type": "markdown",
   "id": "4e6979de",
   "metadata": {},
   "source": [
    "In this recommender system the content of the movie (overview, cast, crew, keyword, tagline etc) is used to find its similarity with other movies. Then the movies that are most likely to be similar are recommended."
   ]
  },
  {
   "cell_type": "markdown",
   "id": "aea70e51",
   "metadata": {},
   "source": [
    "In content-based systems, that is, based on the content of each item, we need to build a profile for each item. This profile is represented mathematically as a feature vector. In simple cases, the feature vector is directly extracted from the item. For this dataset, I will use `overview` feature."
   ]
  },
  {
   "cell_type": "code",
   "execution_count": 21,
   "id": "7f326f87",
   "metadata": {},
   "outputs": [
    {
     "data": {
      "text/plain": [
       "0    In the 22nd century, a paraplegic Marine is dispatched to the moon Pandora on a unique mission, ...\n",
       "1    Captain Barbossa, long believed to be dead, has come back to life and is headed to the edge of t...\n",
       "2    A cryptic message from Bond’s past sends him on a trail to uncover a sinister organization. Whil...\n",
       "3    Following the death of District Attorney Harvey Dent, Batman assumes responsibility for Dent's c...\n",
       "4    John Carter is a war-weary, former military captain who's inexplicably transported to the myster...\n",
       "Name: overview, dtype: object"
      ]
     },
     "execution_count": 21,
     "metadata": {},
     "output_type": "execute_result"
    }
   ],
   "source": [
    "df['overview'].head(5)"
   ]
  },
  {
   "cell_type": "markdown",
   "id": "be95baff",
   "metadata": {},
   "source": [
    "The most important job in a content-based recommendation system is to build a profile for each item, or we can understand that is to build a feature vector for each item. From these feature vectors, the problem can be reduced to the problem of classifying movies based on similarity from words in the overview."
   ]
  },
  {
   "cell_type": "markdown",
   "id": "25315d96",
   "metadata": {},
   "source": [
    "We need to convert the word vector of each overview. Now we'll compute Term Frequency-Inverse Document Frequency (TF-IDF) vectors for each overview."
   ]
  },
  {
   "cell_type": "markdown",
   "id": "fcbec215",
   "metadata": {},
   "source": [
    "**Term Frequency - Inverse Document Frequency (TF-IDF)** is a widely used text classification technique in NLP. It measures how important a word is within a document.Now if you are wondering what is **term frequency** , it is the relative frequency of a word in a document and is given as *(term instances/total instances)*. **Inverse Document Frequency** is the relative count of documents containing the term is given as *log(number of documents/documents with term)*. The overall importance of each word to the documents in which they appear is equal to TF * IDF\n",
    "\n",
    "This will give you a matrix where each column represents a word in the overview vocabulary (all the words that appear in at least one document) and each row represents a movie, as before.This is done to reduce the importance of words that occur frequently in plot overviews and therefore, their significance in computing the final similarity score."
   ]
  },
  {
   "cell_type": "markdown",
   "id": "867a98cb",
   "metadata": {},
   "source": [
    "First, we need a litlle preprocessing. Since there are a few empty overviews, we need to handle these missing value by *filling ' '*. Beside, it seem that the overview often have many stop words, which are meaningless when classifying, so we don't have to consider these words."
   ]
  },
  {
   "cell_type": "code",
   "execution_count": 22,
   "id": "02199a68",
   "metadata": {},
   "outputs": [],
   "source": [
    "#Replace NaN with an empty string\n",
    "df['overview'] = df['overview'].fillna('')"
   ]
  },
  {
   "cell_type": "code",
   "execution_count": 23,
   "id": "216f8d64",
   "metadata": {},
   "outputs": [
    {
     "name": "stderr",
     "output_type": "stream",
     "text": [
      "D:\\Anaconda\\lib\\site-packages\\scipy\\__init__.py:155: UserWarning: A NumPy version >=1.18.5 and <1.25.0 is required for this version of SciPy (detected version 1.26.2\n",
      "  warnings.warn(f\"A NumPy version >={np_minversion} and <{np_maxversion}\"\n"
     ]
    },
    {
     "name": "stdout",
     "output_type": "stream",
     "text": [
      "Feature Names (Words): ['00' '000' '007' ... 'été' 'única' 'über']\n",
      "TF-IDF Matrix:\n",
      "[[0. 0. 0. ... 0. 0. 0.]\n",
      " [0. 0. 0. ... 0. 0. 0.]\n",
      " [0. 0. 0. ... 0. 0. 0.]\n",
      " ...\n",
      " [0. 0. 0. ... 0. 0. 0.]\n",
      " [0. 0. 0. ... 0. 0. 0.]\n",
      " [0. 0. 0. ... 0. 0. 0.]]\n"
     ]
    }
   ],
   "source": [
    "#Import TfIdfVectorizer from scikit-learn\n",
    "from sklearn.feature_extraction.text import TfidfVectorizer\n",
    "\n",
    "#Define a TF-IDF Vectorizer Object. Remove all english stop words such as 'the', 'a'\n",
    "tfidf_vectorizer = TfidfVectorizer(stop_words='english')\n",
    "\n",
    "#Construct the required TF-IDF matrix by fitting and transforming the data\n",
    "tfidf_matrix = tfidf_vectorizer.fit_transform(df['overview'])\n",
    "\n",
    "# Get feature names (words) from the vectorizer\n",
    "feature_names = tfidf_vectorizer.get_feature_names_out()\n",
    "\n",
    "# Print feature names and TF-IDF matrix\n",
    "print(\"Feature Names (Words):\", feature_names)\n",
    "print(\"TF-IDF Matrix:\")\n",
    "print(tfidf_matrix.toarray())"
   ]
  },
  {
   "cell_type": "markdown",
   "id": "344841e3",
   "metadata": {},
   "source": [
    "With this matrix in hand, we can now compute a similarity score. There are several candidates for this; such as the euclidean, the Pearson and the cosine similarity scores. There is no right answer to which score is the best. Different scores work well in different scenarios and it is often a good idea to experiment with different metrics.\n",
    "\n",
    "We will be using the cosine similarity to calculate a numeric quantity that denotes the similarity between two movies. We use the cosine similarity score since it is independent of magnitude and is relatively easy and fast to calculate. Mathematically, it is defined as follows:"
   ]
  },
  {
   "cell_type": "markdown",
   "id": "c60a263d",
   "metadata": {},
   "source": [
    "$$\\text{Cosine Similarity(A, B)} = \\frac{A • B} {||A|| * ||B||}$$"
   ]
  },
  {
   "cell_type": "code",
   "execution_count": 24,
   "id": "de53ac61",
   "metadata": {},
   "outputs": [
    {
     "name": "stdout",
     "output_type": "stream",
     "text": [
      "Similarity Matrix:\n",
      "[[1.         0.         0.         ... 0.         0.         0.        ]\n",
      " [0.         1.         0.         ... 0.02160533 0.         0.        ]\n",
      " [0.         0.         1.         ... 0.01488159 0.         0.        ]\n",
      " ...\n",
      " [0.         0.02160533 0.01488159 ... 1.         0.01609091 0.00701914]\n",
      " [0.         0.         0.         ... 0.01609091 1.         0.01171696]\n",
      " [0.         0.         0.         ... 0.00701914 0.01171696 1.        ]]\n"
     ]
    }
   ],
   "source": [
    "from sklearn.metrics.pairwise import cosine_similarity\n",
    "\n",
    "# Calculate cosine similarity\n",
    "similarity_matrix = cosine_similarity(tfidf_matrix)\n",
    "\n",
    "# Print similarity matrix\n",
    "print(\"Similarity Matrix:\")\n",
    "print(similarity_matrix)"
   ]
  },
  {
   "cell_type": "markdown",
   "id": "0c9e717a",
   "metadata": {},
   "source": [
    "Great! Now we have the similarity matrix of movies based on `overview` feature. We can use this matrix to define a function check the top 10 most similar with the movie we have by checking top 10 biggest similarities in the row of movie. To make it easy to do this, we can mapping the title of movies with indices dataframe. In other words, we need a mechanism to identify the index of a movie in our metadata DataFrame, given its title."
   ]
  },
  {
   "cell_type": "code",
   "execution_count": 25,
   "id": "680b23ca",
   "metadata": {},
   "outputs": [
    {
     "data": {
      "text/plain": [
       "title\n",
       "Avatar                                         0\n",
       "Pirates of the Caribbean: At World's End       1\n",
       "Spectre                                        2\n",
       "The Dark Knight Rises                          3\n",
       "John Carter                                    4\n",
       "                                            ... \n",
       "El Mariachi                                 4798\n",
       "Newlyweds                                   4799\n",
       "Signed, Sealed, Delivered                   4800\n",
       "Shanghai Calling                            4801\n",
       "My Date with Drew                           4802\n",
       "Length: 4803, dtype: int64"
      ]
     },
     "execution_count": 25,
     "metadata": {},
     "output_type": "execute_result"
    }
   ],
   "source": [
    "#Construct a reverse map of indices and movie titles\n",
    "indices = pd.Series(df.index, index=df['title']).drop_duplicates()\n",
    "\n",
    "indices"
   ]
  },
  {
   "cell_type": "code",
   "execution_count": 26,
   "id": "05e6780a",
   "metadata": {},
   "outputs": [],
   "source": [
    "# Function that takes in movie title as input and outputs most similar movies\n",
    "def get_recommendations(title, cosine_sim=similarity_matrix):\n",
    "    # Get the index of the movie that matches the title\n",
    "    idx = indices[title]\n",
    "\n",
    "    # Get the similarity scores of all movies with the given movie\n",
    "    sim_scores = cosine_sim[idx]\n",
    "\n",
    "    # Sort the movies based on the similarity scores\n",
    "    sorted_indices = np.argsort(sim_scores)[::-1]\n",
    "\n",
    "    # Get the indices of the 10 most similar movies (excluding the movie itself)\n",
    "    top_indices = sorted_indices[1:11]\n",
    "    \n",
    "    # Return the top 10 most similar movies\n",
    "    return df['title'].iloc[top_indices]"
   ]
  },
  {
   "cell_type": "code",
   "execution_count": 27,
   "id": "36c87a1c",
   "metadata": {},
   "outputs": [
    {
     "data": {
      "text/plain": [
       "65                              The Dark Knight\n",
       "299                              Batman Forever\n",
       "428                              Batman Returns\n",
       "1359                                     Batman\n",
       "3854    Batman: The Dark Knight Returns, Part 2\n",
       "119                               Batman Begins\n",
       "2507                                  Slow Burn\n",
       "9            Batman v Superman: Dawn of Justice\n",
       "1181                                        JFK\n",
       "210                              Batman & Robin\n",
       "Name: title, dtype: object"
      ]
     },
     "execution_count": 27,
     "metadata": {},
     "output_type": "execute_result"
    }
   ],
   "source": [
    "get_recommendations('The Dark Knight Rises')"
   ]
  },
  {
   "cell_type": "code",
   "execution_count": 28,
   "id": "6448679d",
   "metadata": {},
   "outputs": [],
   "source": [
    "import tkinter as tk\n",
    "from tkinter import messagebox\n",
    "\n",
    "# Create the Tkinter window\n",
    "window = tk.Tk()\n",
    "window.title(\"Movie Recommendation System\")\n",
    "\n",
    "# Function to handle the search\n",
    "def search_movie():\n",
    "    # Get the input from the entry box\n",
    "    movie_title = entry.get()\n",
    "\n",
    "    # Check if the movie title is empty\n",
    "    if not movie_title:\n",
    "        messagebox.showerror(\"Error\", \"Please enter a movie title.\")\n",
    "        return\n",
    "\n",
    "    # Try to get recommendations\n",
    "    try:\n",
    "        recommendations = get_recommendations(movie_title)\n",
    "        result_text.config(state=\"normal\")\n",
    "        result_text.delete(1.0, tk.END)\n",
    "        result_text.insert(tk.END, recommendations)\n",
    "        result_text.config(state=\"disabled\")\n",
    "    except KeyError:\n",
    "        messagebox.showerror(\"Error\", \"Movie not found in the database.\")\n",
    "\n",
    "# Create the search box\n",
    "label = tk.Label(window, text=\"Enter a movie title:\")\n",
    "label.pack()\n",
    "\n",
    "entry = tk.Entry(window, width=50)\n",
    "entry.pack()\n",
    "\n",
    "search_button = tk.Button(window, text=\"Search\", command=search_movie)\n",
    "search_button.pack()\n",
    "\n",
    "# Display the recommendations\n",
    "result_label = tk.Label(window, text=\"Top 10 Recommendations:\")\n",
    "result_label.pack()\n",
    "\n",
    "result_text = tk.Text(window, height=10, width=50)\n",
    "result_text.config(state=\"disabled\")\n",
    "result_text.pack()\n",
    "\n",
    "# Run the Tkinter event loop\n",
    "window.mainloop()"
   ]
  },
  {
   "cell_type": "markdown",
   "id": "e2d7a04e",
   "metadata": {},
   "source": [
    "Beside using overview, we can use *genres, cast or keyword* to build a content-based recommendation system"
   ]
  },
  {
   "cell_type": "markdown",
   "id": "8e8bb806",
   "metadata": {},
   "source": [
    "From the cast, crew and keywords features, we need to extract the three most important actors, genres and the keywords associated with that movie. Right now, our data is present in the form of \"stringified\" lists (JSON string), we need to convert it into a safe and usable structure. First we need to preprocess to get the required information from these features"
   ]
  },
  {
   "cell_type": "code",
   "execution_count": 29,
   "id": "db8a8753",
   "metadata": {},
   "outputs": [],
   "source": [
    "# Create a copy dataframe to avoid conflict\n",
    "copy_df = df.copy()"
   ]
  },
  {
   "cell_type": "code",
   "execution_count": 30,
   "id": "1bbc2b8d",
   "metadata": {},
   "outputs": [],
   "source": [
    "import json\n",
    "\n",
    "# Parse the stringified features into their corresponding python objects\n",
    "# Function to extract names from JSON strings\n",
    "def extract_names(json_str):\n",
    "    try:\n",
    "        data_list = json.loads(json_str)\n",
    "        names = [entry[\"name\"] for entry in data_list]\n",
    "        if len(names) > 3:\n",
    "            names = names[:3]\n",
    "        return names\n",
    "    except:\n",
    "        return []"
   ]
  },
  {
   "cell_type": "code",
   "execution_count": 31,
   "id": "23cb605f",
   "metadata": {},
   "outputs": [],
   "source": [
    "# Apply function to our features\n",
    "features = ['cast', 'keywords', 'genres']\n",
    "for feature in features:\n",
    "    copy_df[feature] = copy_df[feature].apply(extract_names)"
   ]
  },
  {
   "cell_type": "code",
   "execution_count": 32,
   "id": "c1a930cc",
   "metadata": {},
   "outputs": [
    {
     "data": {
      "text/html": [
       "<div>\n",
       "<style scoped>\n",
       "    .dataframe tbody tr th:only-of-type {\n",
       "        vertical-align: middle;\n",
       "    }\n",
       "\n",
       "    .dataframe tbody tr th {\n",
       "        vertical-align: top;\n",
       "    }\n",
       "\n",
       "    .dataframe thead th {\n",
       "        text-align: right;\n",
       "    }\n",
       "</style>\n",
       "<table border=\"1\" class=\"dataframe\">\n",
       "  <thead>\n",
       "    <tr style=\"text-align: right;\">\n",
       "      <th></th>\n",
       "      <th>title</th>\n",
       "      <th>cast</th>\n",
       "      <th>keywords</th>\n",
       "      <th>genres</th>\n",
       "    </tr>\n",
       "  </thead>\n",
       "  <tbody>\n",
       "    <tr>\n",
       "      <th>0</th>\n",
       "      <td>Avatar</td>\n",
       "      <td>[Sam Worthington, Zoe Saldana, Sigourney Weaver]</td>\n",
       "      <td>[culture clash, future, space war]</td>\n",
       "      <td>[Action, Adventure, Fantasy]</td>\n",
       "    </tr>\n",
       "    <tr>\n",
       "      <th>1</th>\n",
       "      <td>Pirates of the Caribbean: At World's End</td>\n",
       "      <td>[Johnny Depp, Orlando Bloom, Keira Knightley]</td>\n",
       "      <td>[ocean, drug abuse, exotic island]</td>\n",
       "      <td>[Adventure, Fantasy, Action]</td>\n",
       "    </tr>\n",
       "    <tr>\n",
       "      <th>2</th>\n",
       "      <td>Spectre</td>\n",
       "      <td>[Daniel Craig, Christoph Waltz, Léa Seydoux]</td>\n",
       "      <td>[spy, based on novel, secret agent]</td>\n",
       "      <td>[Action, Adventure, Crime]</td>\n",
       "    </tr>\n",
       "    <tr>\n",
       "      <th>3</th>\n",
       "      <td>The Dark Knight Rises</td>\n",
       "      <td>[Christian Bale, Michael Caine, Gary Oldman]</td>\n",
       "      <td>[dc comics, crime fighter, terrorist]</td>\n",
       "      <td>[Action, Crime, Drama]</td>\n",
       "    </tr>\n",
       "    <tr>\n",
       "      <th>4</th>\n",
       "      <td>John Carter</td>\n",
       "      <td>[Taylor Kitsch, Lynn Collins, Samantha Morton]</td>\n",
       "      <td>[based on novel, mars, medallion]</td>\n",
       "      <td>[Action, Adventure, Science Fiction]</td>\n",
       "    </tr>\n",
       "  </tbody>\n",
       "</table>\n",
       "</div>"
      ],
      "text/plain": [
       "                                      title  \\\n",
       "0                                    Avatar   \n",
       "1  Pirates of the Caribbean: At World's End   \n",
       "2                                   Spectre   \n",
       "3                     The Dark Knight Rises   \n",
       "4                               John Carter   \n",
       "\n",
       "                                               cast  \\\n",
       "0  [Sam Worthington, Zoe Saldana, Sigourney Weaver]   \n",
       "1     [Johnny Depp, Orlando Bloom, Keira Knightley]   \n",
       "2      [Daniel Craig, Christoph Waltz, Léa Seydoux]   \n",
       "3      [Christian Bale, Michael Caine, Gary Oldman]   \n",
       "4    [Taylor Kitsch, Lynn Collins, Samantha Morton]   \n",
       "\n",
       "                                keywords                                genres  \n",
       "0     [culture clash, future, space war]          [Action, Adventure, Fantasy]  \n",
       "1     [ocean, drug abuse, exotic island]          [Adventure, Fantasy, Action]  \n",
       "2    [spy, based on novel, secret agent]            [Action, Adventure, Crime]  \n",
       "3  [dc comics, crime fighter, terrorist]                [Action, Crime, Drama]  \n",
       "4      [based on novel, mars, medallion]  [Action, Adventure, Science Fiction]  "
      ]
     },
     "execution_count": 32,
     "metadata": {},
     "output_type": "execute_result"
    }
   ],
   "source": [
    "copy_df[['title', 'cast', 'keywords', 'genres']].head()"
   ]
  },
  {
   "cell_type": "markdown",
   "id": "83d5ee0f",
   "metadata": {},
   "source": [
    "The next step would be to convert the names and keyword instances into lowercase and strip all the spaces between them. This is done so that our vectorizer doesn't count the Johnny of \"Johnny Depp\" and \"Johnny Galecki\" as the same."
   ]
  },
  {
   "cell_type": "code",
   "execution_count": 33,
   "id": "1c1e08d0",
   "metadata": {},
   "outputs": [],
   "source": [
    "# Function to convert all strings to lower case and strip names of spaces\n",
    "def clean_data(x):\n",
    "    if isinstance(x, list):\n",
    "        return [str.lower(i.replace(\" \", \"\")) for i in x]"
   ]
  },
  {
   "cell_type": "code",
   "execution_count": 34,
   "id": "946209ab",
   "metadata": {},
   "outputs": [],
   "source": [
    "# Apply function to our features\n",
    "features = ['cast', 'keywords' , 'genres']\n",
    "\n",
    "for feature in features:\n",
    "    copy_df[feature] = copy_df[feature].apply(clean_data)"
   ]
  },
  {
   "cell_type": "markdown",
   "id": "0eab3187",
   "metadata": {},
   "source": [
    "We also need to merge these features into a feature to feed our vectorizer so that it will use all the information in these 3 features to recommend movie"
   ]
  },
  {
   "cell_type": "code",
   "execution_count": 35,
   "id": "29e507ae",
   "metadata": {},
   "outputs": [],
   "source": [
    "def create_metadata(x):\n",
    "    return ' '. join(x['keywords']) +  ' ' + ' '.join(x['cast']) + ' ' + ' '.join(x['genres'])\n",
    "copy_df['soup'] = copy_df.apply(create_metadata, axis=1)"
   ]
  },
  {
   "cell_type": "code",
   "execution_count": 36,
   "id": "a27a61c4",
   "metadata": {},
   "outputs": [
    {
     "data": {
      "text/html": [
       "<div>\n",
       "<style scoped>\n",
       "    .dataframe tbody tr th:only-of-type {\n",
       "        vertical-align: middle;\n",
       "    }\n",
       "\n",
       "    .dataframe tbody tr th {\n",
       "        vertical-align: top;\n",
       "    }\n",
       "\n",
       "    .dataframe thead th {\n",
       "        text-align: right;\n",
       "    }\n",
       "</style>\n",
       "<table border=\"1\" class=\"dataframe\">\n",
       "  <thead>\n",
       "    <tr style=\"text-align: right;\">\n",
       "      <th></th>\n",
       "      <th>title</th>\n",
       "      <th>cast</th>\n",
       "      <th>keywords</th>\n",
       "      <th>genres</th>\n",
       "      <th>soup</th>\n",
       "    </tr>\n",
       "  </thead>\n",
       "  <tbody>\n",
       "    <tr>\n",
       "      <th>0</th>\n",
       "      <td>Avatar</td>\n",
       "      <td>[samworthington, zoesaldana, sigourneyweaver]</td>\n",
       "      <td>[cultureclash, future, spacewar]</td>\n",
       "      <td>[action, adventure, fantasy]</td>\n",
       "      <td>cultureclash future spacewar samworthington zoesaldana sigourneyweaver action adventure fantasy</td>\n",
       "    </tr>\n",
       "    <tr>\n",
       "      <th>1</th>\n",
       "      <td>Pirates of the Caribbean: At World's End</td>\n",
       "      <td>[johnnydepp, orlandobloom, keiraknightley]</td>\n",
       "      <td>[ocean, drugabuse, exoticisland]</td>\n",
       "      <td>[adventure, fantasy, action]</td>\n",
       "      <td>ocean drugabuse exoticisland johnnydepp orlandobloom keiraknightley adventure fantasy action</td>\n",
       "    </tr>\n",
       "    <tr>\n",
       "      <th>2</th>\n",
       "      <td>Spectre</td>\n",
       "      <td>[danielcraig, christophwaltz, léaseydoux]</td>\n",
       "      <td>[spy, basedonnovel, secretagent]</td>\n",
       "      <td>[action, adventure, crime]</td>\n",
       "      <td>spy basedonnovel secretagent danielcraig christophwaltz léaseydoux action adventure crime</td>\n",
       "    </tr>\n",
       "    <tr>\n",
       "      <th>3</th>\n",
       "      <td>The Dark Knight Rises</td>\n",
       "      <td>[christianbale, michaelcaine, garyoldman]</td>\n",
       "      <td>[dccomics, crimefighter, terrorist]</td>\n",
       "      <td>[action, crime, drama]</td>\n",
       "      <td>dccomics crimefighter terrorist christianbale michaelcaine garyoldman action crime drama</td>\n",
       "    </tr>\n",
       "    <tr>\n",
       "      <th>4</th>\n",
       "      <td>John Carter</td>\n",
       "      <td>[taylorkitsch, lynncollins, samanthamorton]</td>\n",
       "      <td>[basedonnovel, mars, medallion]</td>\n",
       "      <td>[action, adventure, sciencefiction]</td>\n",
       "      <td>basedonnovel mars medallion taylorkitsch lynncollins samanthamorton action adventure sciencefiction</td>\n",
       "    </tr>\n",
       "  </tbody>\n",
       "</table>\n",
       "</div>"
      ],
      "text/plain": [
       "                                      title  \\\n",
       "0                                    Avatar   \n",
       "1  Pirates of the Caribbean: At World's End   \n",
       "2                                   Spectre   \n",
       "3                     The Dark Knight Rises   \n",
       "4                               John Carter   \n",
       "\n",
       "                                            cast  \\\n",
       "0  [samworthington, zoesaldana, sigourneyweaver]   \n",
       "1     [johnnydepp, orlandobloom, keiraknightley]   \n",
       "2      [danielcraig, christophwaltz, léaseydoux]   \n",
       "3      [christianbale, michaelcaine, garyoldman]   \n",
       "4    [taylorkitsch, lynncollins, samanthamorton]   \n",
       "\n",
       "                              keywords                               genres  \\\n",
       "0     [cultureclash, future, spacewar]         [action, adventure, fantasy]   \n",
       "1     [ocean, drugabuse, exoticisland]         [adventure, fantasy, action]   \n",
       "2     [spy, basedonnovel, secretagent]           [action, adventure, crime]   \n",
       "3  [dccomics, crimefighter, terrorist]               [action, crime, drama]   \n",
       "4      [basedonnovel, mars, medallion]  [action, adventure, sciencefiction]   \n",
       "\n",
       "                                                                                                  soup  \n",
       "0      cultureclash future spacewar samworthington zoesaldana sigourneyweaver action adventure fantasy  \n",
       "1         ocean drugabuse exoticisland johnnydepp orlandobloom keiraknightley adventure fantasy action  \n",
       "2            spy basedonnovel secretagent danielcraig christophwaltz léaseydoux action adventure crime  \n",
       "3             dccomics crimefighter terrorist christianbale michaelcaine garyoldman action crime drama  \n",
       "4  basedonnovel mars medallion taylorkitsch lynncollins samanthamorton action adventure sciencefiction  "
      ]
     },
     "execution_count": 36,
     "metadata": {},
     "output_type": "execute_result"
    }
   ],
   "source": [
    "copy_df[['title', 'cast', 'keywords', 'genres', 'soup']].head()"
   ]
  },
  {
   "cell_type": "markdown",
   "id": "6bc9c584",
   "metadata": {},
   "source": [
    "Now let's vectorize the data for counting similarities"
   ]
  },
  {
   "cell_type": "code",
   "execution_count": 37,
   "id": "25dbcb12",
   "metadata": {},
   "outputs": [
    {
     "name": "stdout",
     "output_type": "stream",
     "text": [
      "[[0 0 0 ... 0 0 0]\n",
      " [0 0 0 ... 0 0 0]\n",
      " [0 0 0 ... 0 0 0]\n",
      " ...\n",
      " [0 0 0 ... 0 0 0]\n",
      " [0 0 0 ... 0 0 0]\n",
      " [0 0 0 ... 0 0 0]]\n",
      "['17thcentury' '18thcentury' '1910s' ... 'юлияснигирь' '卧底肥妈' '绝地奶霸']\n"
     ]
    }
   ],
   "source": [
    "# Import CountVectorizer and create the count matrix\n",
    "from sklearn.feature_extraction.text import CountVectorizer\n",
    "\n",
    "count_vectorizer = CountVectorizer(stop_words='english')\n",
    "count_matrix = count_vectorizer.fit_transform(copy_df['soup'])\n",
    "\n",
    "# Vocabulary\n",
    "vocab = count_vectorizer.get_feature_names_out()\n",
    "\n",
    "# Transformed matrix\n",
    "print(count_matrix.toarray())\n",
    "\n",
    "# Vocabulary mapping\n",
    "print(vocab)"
   ]
  },
  {
   "cell_type": "code",
   "execution_count": 38,
   "id": "ee35e759",
   "metadata": {},
   "outputs": [
    {
     "name": "stdout",
     "output_type": "stream",
     "text": [
      "Similarity Matrix:\n",
      "[[1.         0.33333333 0.22222222 ... 0.         0.         0.        ]\n",
      " [0.33333333 1.         0.22222222 ... 0.         0.         0.        ]\n",
      " [0.22222222 0.22222222 1.         ... 0.         0.         0.        ]\n",
      " ...\n",
      " [0.         0.         0.         ... 1.         0.         0.        ]\n",
      " [0.         0.         0.         ... 0.         1.         0.        ]\n",
      " [0.         0.         0.         ... 0.         0.         1.        ]]\n"
     ]
    }
   ],
   "source": [
    "similarity_matrix_2 = cosine_similarity(count_matrix)\n",
    "\n",
    "# Print similarity matrix\n",
    "print(\"Similarity Matrix:\")\n",
    "print(similarity_matrix_2)"
   ]
  },
  {
   "cell_type": "code",
   "execution_count": 39,
   "id": "09a5f702",
   "metadata": {},
   "outputs": [
    {
     "data": {
      "text/plain": [
       "65               The Dark Knight\n",
       "119                Batman Begins\n",
       "4638    Amidst the Devil's Wings\n",
       "3073           Romeo Is Bleeding\n",
       "1986                      Faster\n",
       "3326              Black November\n",
       "1503                      Takers\n",
       "303                     Catwoman\n",
       "1253               Kiss of Death\n",
       "1149             American Hustle\n",
       "Name: title, dtype: object"
      ]
     },
     "execution_count": 39,
     "metadata": {},
     "output_type": "execute_result"
    }
   ],
   "source": [
    "get_recommendations('The Dark Knight Rises', similarity_matrix_2)"
   ]
  },
  {
   "cell_type": "markdown",
   "id": "20fd0676",
   "metadata": {},
   "source": [
    "We see that our recommender has been successful in capturing more information due to more metadata and has given us (arguably) better recommendations. It is more likely that Marvels or DC comics fans will like the movies of the same production house. Therefore, to our features above we can add production_company . We can also increase the weight of the director , by adding the feature multiple times in the soup."
   ]
  },
  {
   "cell_type": "markdown",
   "id": "9d1331b9",
   "metadata": {},
   "source": [
    "### Colaborative filtering"
   ]
  },
  {
   "cell_type": "markdown",
   "id": "b01173e6",
   "metadata": {},
   "source": [
    "In **Content-based Recommendation Systems**, we got acquainted with a simple product recommendation system based on the characteristics of each item. The characteristic of Content-based Recommendation Systems is that building a model for each user does not depend on other users but depends on the profile of each item. This has the advantage of saving memory and computation time. At the same time, the system is capable of taking advantage of the specific information of each item as described in the description of each item. This description can be generated by the supplier or collected by asking users to tag items. Building a feature vector for each item often involves **Natural Language Processing (NLP)** techniques.\n",
    "\n",
    "The above method has two basic disadvantages. First, when building a model for a single user, Content-based systems cannot take advantage of information from other users. This information is often very useful because users' purchasing behavior is often grouped into a few simple groups; If we know the purchasing behavior of some users in the group, the system should infer the behavior of the remaining users. Second, we don't always have a description for each item. Asking users to add tags is even more difficult because not everyone is willing to do it; Or do it but it will be a personal trend. NLP algorithms are also more complicated in that they have to handle words that are close in meaning, abbreviated, misspelled, or written in different languages.\n",
    "\n",
    "The above disadvantages can be solved with **Collaborative Filtering (CF)**. In this article, I will present to you a CF method called **Neighborhood-based Collaborative Filtering (NBCF)**."
   ]
  },
  {
   "cell_type": "markdown",
   "id": "87ac9994",
   "metadata": {},
   "source": [
    "The basic idea of NBCF is to determine the level of interest of a user in an item based on other users that are similar to this user. The similarity between users can be determined through the level of interest of these users in other items known to the system. For example, A and B both like the movie The Avenger, meaning they both rate this movie 5 stars. We already know that A also likes The Avenger 2, so it's likely that B also likes this movie."
   ]
  },
  {
   "cell_type": "markdown",
   "id": "8288226b",
   "metadata": {},
   "source": [
    "Determining the level of interest of each user in an item based on the level of interest of similar users in that item is also called **User-user collaborative filtering**. There is another approach that is said to work more effectively: **Item-item collaborative filtering**. In this approach, instead of identifying user similarities, the system will identify similar items. From there, the system suggests items that are similar to items that the user has a high level of interest in."
   ]
  },
  {
   "cell_type": "markdown",
   "id": "8e1b4146",
   "metadata": {},
   "source": [
    "Since the dataset we used before did not have userId (which is necessary for collaborative filtering), so let's load another dataset."
   ]
  },
  {
   "cell_type": "code",
   "execution_count": 40,
   "id": "4828d3ab",
   "metadata": {},
   "outputs": [
    {
     "data": {
      "text/html": [
       "<div>\n",
       "<style scoped>\n",
       "    .dataframe tbody tr th:only-of-type {\n",
       "        vertical-align: middle;\n",
       "    }\n",
       "\n",
       "    .dataframe tbody tr th {\n",
       "        vertical-align: top;\n",
       "    }\n",
       "\n",
       "    .dataframe thead th {\n",
       "        text-align: right;\n",
       "    }\n",
       "</style>\n",
       "<table border=\"1\" class=\"dataframe\">\n",
       "  <thead>\n",
       "    <tr style=\"text-align: right;\">\n",
       "      <th></th>\n",
       "      <th>userId</th>\n",
       "      <th>movieId</th>\n",
       "      <th>rating</th>\n",
       "      <th>timestamp</th>\n",
       "    </tr>\n",
       "  </thead>\n",
       "  <tbody>\n",
       "    <tr>\n",
       "      <th>0</th>\n",
       "      <td>1</td>\n",
       "      <td>16</td>\n",
       "      <td>4.0</td>\n",
       "      <td>1217897793</td>\n",
       "    </tr>\n",
       "    <tr>\n",
       "      <th>1</th>\n",
       "      <td>1</td>\n",
       "      <td>24</td>\n",
       "      <td>1.5</td>\n",
       "      <td>1217895807</td>\n",
       "    </tr>\n",
       "    <tr>\n",
       "      <th>2</th>\n",
       "      <td>1</td>\n",
       "      <td>32</td>\n",
       "      <td>4.0</td>\n",
       "      <td>1217896246</td>\n",
       "    </tr>\n",
       "    <tr>\n",
       "      <th>3</th>\n",
       "      <td>1</td>\n",
       "      <td>47</td>\n",
       "      <td>4.0</td>\n",
       "      <td>1217896556</td>\n",
       "    </tr>\n",
       "    <tr>\n",
       "      <th>4</th>\n",
       "      <td>1</td>\n",
       "      <td>50</td>\n",
       "      <td>4.0</td>\n",
       "      <td>1217896523</td>\n",
       "    </tr>\n",
       "  </tbody>\n",
       "</table>\n",
       "</div>"
      ],
      "text/plain": [
       "   userId  movieId  rating   timestamp\n",
       "0       1       16     4.0  1217897793\n",
       "1       1       24     1.5  1217895807\n",
       "2       1       32     4.0  1217896246\n",
       "3       1       47     4.0  1217896556\n",
       "4       1       50     4.0  1217896523"
      ]
     },
     "execution_count": 40,
     "metadata": {},
     "output_type": "execute_result"
    }
   ],
   "source": [
    "ratings = pd.read_csv('IMDB Movie Data/ratings.csv')\n",
    "ratings.head()"
   ]
  },
  {
   "cell_type": "markdown",
   "id": "e2cb8c85",
   "metadata": {},
   "source": [
    "Let's have a first look about data type"
   ]
  },
  {
   "cell_type": "code",
   "execution_count": 41,
   "id": "4cf79d8c",
   "metadata": {},
   "outputs": [
    {
     "name": "stdout",
     "output_type": "stream",
     "text": [
      "<class 'pandas.core.frame.DataFrame'>\n",
      "RangeIndex: 105339 entries, 0 to 105338\n",
      "Data columns (total 4 columns):\n",
      " #   Column     Non-Null Count   Dtype  \n",
      "---  ------     --------------   -----  \n",
      " 0   userId     105339 non-null  int64  \n",
      " 1   movieId    105339 non-null  int64  \n",
      " 2   rating     105339 non-null  float64\n",
      " 3   timestamp  105339 non-null  int64  \n",
      "dtypes: float64(1), int64(3)\n",
      "memory usage: 3.2 MB\n"
     ]
    }
   ],
   "source": [
    "ratings.info()"
   ]
  },
  {
   "cell_type": "markdown",
   "id": "9f08d806",
   "metadata": {},
   "source": [
    "irst, we need to decide which information to use in building the anime recommendation system. Obviously, the columns `userId`, `movieId`, and `rating` are essential to perform this task. As for the column `timestamp`, these columns can still have value in practice when building a recommendation model. However, for simplicity, we will temporarily set aside these two columns here.\n",
    "\n",
    "Based on 3 columns, I need to create a 2D NumPy matrix named `ratings_mat`. In this matrix, the number of rows represents the number of users, while the number of columns represents the number of movies. So, `ratings_mat[i, j]` will represent the rating that `user_i` has given to `movie_j`. \"For movie series that the user has not rated, the value will be 'NaN'.\""
   ]
  },
  {
   "cell_type": "code",
   "execution_count": 42,
   "id": "57e6de4e",
   "metadata": {},
   "outputs": [],
   "source": [
    "# Convert dataframe to numpy array for using \n",
    "user_ratings = ratings.to_numpy()"
   ]
  },
  {
   "cell_type": "code",
   "execution_count": 43,
   "id": "fc2a6404",
   "metadata": {},
   "outputs": [
    {
     "data": {
      "text/plain": [
       "array([[         1,         16,          4, 1217897793],\n",
       "       [         1,         24,          1, 1217895807],\n",
       "       [         1,         32,          4, 1217896246],\n",
       "       [         1,         47,          4, 1217896556],\n",
       "       [         1,         50,          4, 1217896523]], dtype=uint64)"
      ]
     },
     "execution_count": 43,
     "metadata": {},
     "output_type": "execute_result"
    }
   ],
   "source": [
    "# Convert to integer to avoid trouble when create matrix\n",
    "user_ratings = user_ratings.astype('uint64')\n",
    "user_ratings[:5] # Look at the first 5 lines"
   ]
  },
  {
   "cell_type": "code",
   "execution_count": 44,
   "id": "a5e79d70",
   "metadata": {},
   "outputs": [
    {
     "name": "stdout",
     "output_type": "stream",
     "text": [
      "User id  - min & max: 1 & 668\n",
      "Anime id - min & max: 1 & 149532\n"
     ]
    }
   ],
   "source": [
    "print('User id  - min & max:', \n",
    "      user_ratings[:, 0].min(), '&', user_ratings[:, 0].max()) \n",
    "print('Anime id - min & max:', \n",
    "      user_ratings[:, 1].min(), '&', user_ratings[:, 1].max()) "
   ]
  },
  {
   "cell_type": "markdown",
   "id": "0641fc8f",
   "metadata": {},
   "source": [
    "The ID of user and movie should fit with the indices of matrix, so let's minus them with 1"
   ]
  },
  {
   "cell_type": "code",
   "execution_count": 45,
   "id": "7d1535e8",
   "metadata": {},
   "outputs": [],
   "source": [
    "user_ratings[:, 0] = user_ratings[:, 0] - 1\n",
    "user_ratings[:, 1] = user_ratings[:, 1] - 1"
   ]
  },
  {
   "cell_type": "markdown",
   "id": "6aa88f90",
   "metadata": {},
   "source": [
    "It's time we create the rating matrix"
   ]
  },
  {
   "cell_type": "code",
   "execution_count": 46,
   "id": "5d95e574",
   "metadata": {},
   "outputs": [],
   "source": [
    "# Create empty rating matrix\n",
    "ratings_mat = np.empty((668, 149532))\n",
    "\n",
    "# Fill the rating matrix with Nan\n",
    "ratings_mat[:] = np.nan\n",
    "\n",
    "# Fill the rating matrix with indices from user_rating's user ID and user ID, value from user_rating's ratings \n",
    "ratings_mat[user_ratings[:,0], user_ratings[:,1]] = user_ratings[:,2]\n",
    "\n",
    "# Replace all values of 0 with Nan\n",
    "ratings_mat = np.where(ratings_mat == 0, np.nan, ratings_mat)"
   ]
  },
  {
   "cell_type": "code",
   "execution_count": 47,
   "id": "fbedb6f0",
   "metadata": {},
   "outputs": [
    {
     "data": {
      "text/plain": [
       "array([[nan, nan, nan, ..., nan, nan, nan],\n",
       "       [ 5., nan,  2., ..., nan, nan, nan],\n",
       "       [nan, nan, nan, ..., nan, nan, nan],\n",
       "       ...,\n",
       "       [ 5., nan,  4., ..., nan, nan, nan],\n",
       "       [nan, nan,  3., ..., nan, nan, nan],\n",
       "       [nan, nan, nan, ..., nan, nan, nan]])"
      ]
     },
     "execution_count": 47,
     "metadata": {},
     "output_type": "execute_result"
    }
   ],
   "source": [
    "ratings_mat[:10]"
   ]
  },
  {
   "cell_type": "markdown",
   "id": "5a4546fa",
   "metadata": {},
   "source": [
    "It would be much simpler if we used algorithms supported by other libraries. However, I want to practice using the Numpy library. Therefore, I will build a simple movie recommendation system from scratch using the provided data, utilizing only Numpy library.\n",
    "\n",
    "In my opinion, there are two fundamental tasks in a movie recommendation system:\n",
    "\n",
    "- First, we need to predict the ratings for movies that a user hasn't reviewed or watched yet.\n",
    "- Second, we need to provide recommendations to users based on the top-rated movies that have been predicted.\n",
    "\n",
    "It seems that the second task will become much simpler if we can accomplish the first task. One of the simplest ways to tackle task 1 is by computing the similarity between users and using this similarity to make predictions. However, there are some considerations to keep in mind. It's not feasible to compute similarity between all users at once, as it might lead to memory issues (even if you have enough memory, my computer is quite limited in that regard :<). One way to address this issue is to \n",
    "use **SVD (Singular Value Decomposition)** to reduce dimension in the rating matrix since the size is big."
   ]
  },
  {
   "cell_type": "markdown",
   "id": "92b522ce",
   "metadata": {},
   "source": [
    "First let's predict the `nan` values in `ratings_matrix` using **Knn (K-nearest neighbor)** "
   ]
  },
  {
   "cell_type": "code",
   "execution_count": 48,
   "id": "6d6829d8",
   "metadata": {},
   "outputs": [],
   "source": [
    "def handle_missing_values(ratings_mat, impute_method=\"knn\", k=None):\n",
    "    if k is None:\n",
    "        raise ValueError(\"kNN imputation requires specifying 'k' as an additional argument.\")\n",
    "\n",
    "    ratings_mat_filled = ratings_mat.copy()\n",
    "\n",
    "    from sklearn.impute import KNNImputer\n",
    "    imputer = KNNImputer(n_neighbors=k)\n",
    "    ratings_mat_filled = imputer.fit_transform(ratings_mat)\n",
    "\n",
    "    return ratings_mat_filled"
   ]
  },
  {
   "cell_type": "code",
   "execution_count": 49,
   "id": "4af1bb1b",
   "metadata": {},
   "outputs": [
    {
     "data": {
      "text/plain": [
       "array([[3.        , 4.33333333, 2.33333333, ..., 3.        , 4.        ,\n",
       "        4.        ],\n",
       "       [5.        , 3.66666667, 2.        , ..., 3.        , 4.        ,\n",
       "        4.        ],\n",
       "       [3.        , 3.66666667, 3.66666667, ..., 3.        , 4.        ,\n",
       "        4.        ],\n",
       "       ...,\n",
       "       [5.        , 3.33333333, 4.        , ..., 3.        , 4.        ,\n",
       "        4.        ],\n",
       "       [3.66666667, 3.66666667, 3.        , ..., 3.        , 4.        ,\n",
       "        4.        ],\n",
       "       [3.66666667, 3.66666667, 3.66666667, ..., 3.        , 4.        ,\n",
       "        4.        ]])"
      ]
     },
     "execution_count": 49,
     "metadata": {},
     "output_type": "execute_result"
    }
   ],
   "source": [
    "# Handle missing values by replacing with mean or using imputation techniques\n",
    "ratings_mat_filled = handle_missing_values(ratings_mat, k=3)\n",
    "ratings_mat_filled[:10]"
   ]
  },
  {
   "cell_type": "markdown",
   "id": "b265455f",
   "metadata": {},
   "source": [
    "The Singular Value Decomposition (SVD) of an mxn matrix A is given by:\n",
    "\n",
    "$$ A = U \\Sigma V^T \\$$\n",
    "\n",
    "Where:\n",
    "- U is an mxm orthogonal matrix.\n",
    "- Sigma is an mxn diagonal matrix with non-negative real numbers on the diagonal, known as the singular values of A.\n",
    "- V^T  is the transpose of an nxn orthogonal matrix.\n",
    "\n",
    "In detail,  U , Sigma , and V^T can be expressed as:\n",
    "\n",
    "$$\\ U = [u_1 \\,|\\, u_2 \\,|\\, \\ldots \\,|\\, u_m] \\ $$\n",
    "\n",
    "$$ \\Sigma = \\begin{bmatrix}\n",
    "\\sigma_1 & 0 & \\ldots & 0 \\\\\n",
    "0 & \\sigma_2 & \\ldots & 0 \\\\\n",
    "\\vdots & \\vdots & \\ddots & \\vdots \\\\\n",
    "0 & 0 & \\ldots & \\sigma_n \\\\\n",
    "0 & 0 & \\ldots & 0 \\\\\n",
    "\\vdots & \\vdots & \\ddots & \\vdots \\\\\n",
    "0 & 0 & \\ldots & 0 \\\\\n",
    "\\end{bmatrix} $$\n",
    "\n",
    "$$ V^T = \\begin{bmatrix}\n",
    "v_1^T \\\\\n",
    "v_2^T \\\\\n",
    "\\vdots \\\\\n",
    "v_n^T \\\\\n",
    "\\end{bmatrix} $$\n",
    "\n",
    "Where  u_i  and  v_i  are the left and right singular vectors of  A , respectively, corresponding to the singular value sigma_i .\n",
    "\n",
    "The matrices  U  and  V  are orthonormal, meaning $$U^TU = I$$ and $$ V^TV = I$$ , where  I  is the identity matrix.\n"
   ]
  },
  {
   "cell_type": "markdown",
   "id": "0780213e",
   "metadata": {},
   "source": [
    "**How is SVD meaning in recommdation system?**\n",
    "\n",
    "If the matrix M is rank r, then we can prove that the matrices M^T.M and M.M^T are both rank r. In singular value decomposition (the reduced SVD), the columns of matrix U are eigenvectors of M^T M and the rows of matrix V^T are eigenvectors of M.M^T. What's interesting is that M M^T and M^T M are potentially in different size (because matrix M can be non-square shape), but they have the same set of eigenvalues, which are the square of values on the diagonal of Σ.\n",
    "\n",
    "This is why the result of singular value decomposition can reveal a lot about the matrix M.\n",
    "\n",
    "Imagine in this dataset we collected some movie reviews such that movie are rows and people are columns, and the entries are the ratings that a person gave to a movie. In that case, M.M^T would be a table of person-to-person similarity, which the entries would mean the sum of the ratings one person gave match with another one. Similarly M^T.M would be a table of ,movie-to-movie similarity which entries are the sum of the ratings received match with that received by another book. What can be the hidden connection between people and books? That could be the genre, or the author, or something of similar nature."
   ]
  },
  {
   "cell_type": "code",
   "execution_count": 50,
   "id": "42a12214",
   "metadata": {},
   "outputs": [],
   "source": [
    "U, Sigma, VT = np.linalg.svd(ratings_mat_filled, full_matrices=False)"
   ]
  },
  {
   "cell_type": "markdown",
   "id": "f75bfdbc",
   "metadata": {},
   "source": [
    "I will follow this flow to build a simple item-item recommendation system:\n",
    "   - Step 1: Calculate the `similarities` array to show the similarity between each movies based on users' ratings using `Cosine Similarity`.\n",
    "   - Step 2: Sort by most similar and return the top N results with the idea quite same as the function `get_recommendation` above.\n",
    "   - Step 3: Print the top N recommended movies with the function `get_recommendation_cf`"
   ]
  },
  {
   "cell_type": "code",
   "execution_count": 51,
   "id": "3c1ecfc9",
   "metadata": {},
   "outputs": [],
   "source": [
    "# Function to calculate the cosine similarity (sorting by most similar and returning the top N)\n",
    "def top_cosine_similarity(data, title, top_n=10):\n",
    "    index = indices[title]  # Get the index of the movie that matches the title\n",
    "    movie_row = data[index, :].reshape(1, -1)  # Reshape to make it a row vector\n",
    "    similarity_matrix = cosine_similarity(movie_row, data)\n",
    "    similarity_scores = similarity_matrix.flatten()  # Flatten the matrix to 1D array\n",
    "    sort_indices = np.argsort(-similarity_scores)  # Sort in descending order\n",
    "    return sort_indices[1:top_n] # Get the indices of the 10 most similar movies (excluding the movie itself)\n",
    "    #return df['title'].iloc[top_indices]"
   ]
  },
  {
   "cell_type": "code",
   "execution_count": 52,
   "id": "9700da09",
   "metadata": {},
   "outputs": [],
   "source": [
    "def get_recommendation_cf(list_of_indices):\n",
    "    for i in list_of_indices:\n",
    "        print(df['title'].iloc[i])"
   ]
  },
  {
   "cell_type": "code",
   "execution_count": 53,
   "id": "8de1da5a",
   "metadata": {},
   "outputs": [
    {
     "name": "stdout",
     "output_type": "stream",
     "text": [
      "You may liked one from this list (Based on users' votes): \n",
      "\n",
      "Steel\n",
      "Predators\n",
      "Entrapment\n",
      "Machete\n",
      "The Legend of Hercules\n",
      "The Fan\n",
      "Moonrise Kingdom\n",
      "The Jacket\n",
      "The Sentinel\n"
     ]
    }
   ],
   "source": [
    "#k-principal components to represent movies\n",
    "k = 50\n",
    "sliced = VT.T[:, :k] # representative data\n",
    "title = 'Avatar'\n",
    "list_of_indices = top_cosine_similarity(sliced, title )\n",
    "print(\"You may liked one from this list (Based on users' votes): \\n\")\n",
    "get_recommendation_cf(list_of_indices)"
   ]
  },
  {
   "cell_type": "markdown",
   "id": "88903f3c",
   "metadata": {},
   "source": [
    "## Conclusion"
   ]
  },
  {
   "cell_type": "markdown",
   "id": "42e29c41",
   "metadata": {},
   "source": [
    "This is all my first study about recommendation system using **Demographic filtering, Content-based filtering, Collaborative filtering** and apply to make some simple recommendation system.  While demographic filtering is very elemantary and cannot be used practically, Hybrid Systems can take advantage of content-based and collaborative filtering as the two approaches are proved to be almost complimentary. These models was very baseline and only provides a fundamental framework to start with.\n",
    "\n",
    "I would like to mention some excellent refereces that I learned from:\n",
    "\n",
    "   - [Kaggle](https://www.kaggle.com/code/ibtesama/getting-started-with-a-movie-recommendation-system/notebook)\n",
    "    \n",
    "   - https://machinelearningmastery.com/using-singular-value-decomposition-to-build-a-recommender-system/\n",
    "    \n",
    "   - https://machinelearningcoban.com/2017/05/24/collaborativefiltering/\n",
    "   \n",
    "   - https://machinelearningcoban.com/2017/05/17/contentbasedrecommendersys/\n",
    "   \n",
    "   - https://datajobs.com/data-science-repo/Recommender-Systems-%5BNetflix%5D.pdf\n",
    "    "
   ]
  },
  {
   "cell_type": "code",
   "execution_count": null,
   "id": "4b73acd9",
   "metadata": {},
   "outputs": [],
   "source": []
  }
 ],
 "metadata": {
  "kernelspec": {
   "display_name": "Python 3 (ipykernel)",
   "language": "python",
   "name": "python3"
  },
  "language_info": {
   "codemirror_mode": {
    "name": "ipython",
    "version": 3
   },
   "file_extension": ".py",
   "mimetype": "text/x-python",
   "name": "python",
   "nbconvert_exporter": "python",
   "pygments_lexer": "ipython3",
   "version": "3.9.13"
  }
 },
 "nbformat": 4,
 "nbformat_minor": 5
}
